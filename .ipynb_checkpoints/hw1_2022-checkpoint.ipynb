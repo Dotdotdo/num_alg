{
 "cells": [
  {
   "cell_type": "markdown",
   "metadata": {
    "nbgrader": {
     "grade": false,
     "grade_id": "cell-06d3e5bf55c941ae",
     "locked": true,
     "schema_version": 3,
     "solution": false,
     "task": false
    }
   },
   "source": [
    "# Homework set 1"
   ]
  },
  {
   "cell_type": "markdown",
   "metadata": {
    "nbgrader": {
     "grade": false,
     "grade_id": "cell-736ff6bc3e0d0696",
     "locked": true,
     "schema_version": 3,
     "solution": false,
     "task": false
    }
   },
   "source": [
    "Please **submit this Jupyter notebook through Canvas** no later than **Mon Nov. 7, 9:00**. **Submit the notebook file with your answers (as .ipynb file) and a pdf printout. The pdf version can be used by the teachers to provide feedback. A pdf version can be made using the save and export option in the Jupyter Lab file menu.**\n",
    "\n",
    "Homework is in **groups of two**, and you are expected to hand in original work. Work that is copied from another group will not be accepted."
   ]
  },
  {
   "cell_type": "markdown",
   "metadata": {
    "nbgrader": {
     "grade": false,
     "grade_id": "cell-b13bc5ed16bce8e0",
     "locked": true,
     "schema_version": 3,
     "solution": false,
     "task": false
    }
   },
   "source": [
    "# Exercise 0\n",
    "Write down the names + student ID of the people in your group."
   ]
  },
  {
   "cell_type": "markdown",
   "metadata": {
    "nbgrader": {
     "grade": true,
     "grade_id": "cell-fd464f55ba436b1c",
     "locked": false,
     "points": 0,
     "schema_version": 3,
     "solution": true,
     "task": false
    }
   },
   "source": [
    "Karin Brinksma 13919938 Dominique Weltevreden 12161160"
   ]
  },
  {
   "cell_type": "markdown",
   "metadata": {
    "nbgrader": {
     "grade": false,
     "grade_id": "cell-b5a7855ecca9f6be",
     "locked": true,
     "schema_version": 3,
     "solution": false,
     "task": false
    }
   },
   "source": [
    "Run the following cell to import the necessary packages."
   ]
  },
  {
   "cell_type": "code",
   "execution_count": 9,
   "metadata": {},
   "outputs": [],
   "source": [
    "import numpy as np\n",
    "import matplotlib.pyplot as plt\n",
    "import math"
   ]
  },
  {
   "cell_type": "markdown",
   "metadata": {
    "nbgrader": {
     "grade": false,
     "grade_id": "cell-74bf13c4a03ff7a2",
     "locked": true,
     "schema_version": 3,
     "solution": false,
     "task": false
    }
   },
   "source": [
    "## NumPy in single-precision floating point numbers\n",
    "Working with real numbers on a computer can sometimes be counter-intuitive. Not every real number cannot be represented exactly, because that would require an infinite amount of memory. Real numbers are in Python represented as \"double-precision floating point numbers\" that approximate the real numbers they represent. As such, the usual \"rules of mathematics\" no longer hold for very small or very large numbers:"
   ]
  },
  {
   "cell_type": "code",
   "execution_count": 2,
   "metadata": {},
   "outputs": [
    {
     "name": "stdout",
     "output_type": "stream",
     "text": [
      "very small numbers:\n",
      "0\n",
      "1e-17\n",
      "0.0\n",
      "very large numbers:\n",
      "9007199254740992.0\n",
      "9007199254740992.0\n"
     ]
    }
   ],
   "source": [
    "print(\"very small numbers:\")\n",
    "print(1 - 1)          # Should be zero\n",
    "print(1 - 1 + 1e-17)  # Should be 10 ** -17, i.e. a very small number\n",
    "print(1 + 1e-17 - 1)  # Should *also* be 10**-17, but is it?\n",
    "\n",
    "print(\"very large numbers:\")\n",
    "print(2.0**53)        # Some very large number\n",
    "print(2.0**53 + 1.0)  # Some very large number + 1"
   ]
  },
  {
   "cell_type": "markdown",
   "metadata": {},
   "source": [
    "Usually, you don't have to worry about these rounding errors. But in scientific computing, these rounding errors sometimes become important. To reveal this problem more directly, we can decrease the precision of these approximations, using \"single precision\" instead of double precision floating point numbers, by employing `np.single`:"
   ]
  },
  {
   "cell_type": "code",
   "execution_count": 3,
   "metadata": {},
   "outputs": [
    {
     "name": "stdout",
     "output_type": "stream",
     "text": [
      "1.000000001\n",
      "1.0\n"
     ]
    }
   ],
   "source": [
    "print(1.0 + 10**-9)             # Should be slightly above 1\n",
    "print(np.single(1.0 + 10**-9))  # But in single precision, it is exactly 1."
   ]
  },
  {
   "cell_type": "markdown",
   "metadata": {},
   "source": [
    "Today we will practice with these single-precision floating point numbers. One thing to keep in mind is that Python will *really* try to work with double-precision floats:"
   ]
  },
  {
   "cell_type": "code",
   "execution_count": 4,
   "metadata": {},
   "outputs": [
    {
     "name": "stdout",
     "output_type": "stream",
     "text": [
      "a and b represent the same value: True\n",
      "but they are of different types: <class 'float'> <class 'numpy.float32'>\n",
      "If I add zero to a, its type does not change:  True\n",
      "If I add zero to b, its type *does* change:    False\n"
     ]
    }
   ],
   "source": [
    "a = 5.0\n",
    "b = np.single(5.0)\n",
    "print(\"a and b represent the same value:\", a == b)\n",
    "print(\"but they are of different types:\", type(a), type(b))\n",
    "print(\"If I add zero to a, its type does not change: \", type(a) == type(a + 0.0))\n",
    "print(\"If I add zero to b, its type *does* change:   \", type(b) == type(b + 0.0))"
   ]
  },
  {
   "cell_type": "markdown",
   "metadata": {},
   "source": [
    "Any time Python encounters a number like `1` or `0` or `math.pi`, it will interpret this as double precision, unless you use `np.single`. \n",
    "\n",
    "So we have to be extra careful when working with these single-precision numbers, to prevent these types changing. See the difference between `S` and `T` below."
   ]
  },
  {
   "cell_type": "code",
   "execution_count": 5,
   "metadata": {},
   "outputs": [
    {
     "name": "stdout",
     "output_type": "stream",
     "text": [
      "<class 'numpy.float64'>\n",
      "<class 'numpy.float32'>\n"
     ]
    }
   ],
   "source": [
    "S = 0.0\n",
    "S += np.single(5.0)\n",
    "print(type(S))\n",
    "\n",
    "T = np.single(0.0)\n",
    "T += np.single(5.0)\n",
    "print(type(T))"
   ]
  },
  {
   "cell_type": "markdown",
   "metadata": {
    "nbgrader": {
     "grade": false,
     "grade_id": "cell-806a5c23e94c8795",
     "locked": true,
     "schema_version": 3,
     "solution": false,
     "task": false
    }
   },
   "source": [
    "## Very short introduction to Matplotlib\n",
    "\n",
    "`matplotlib` is a useful package for visualizing data using Python. Run the first cell below to plot $\\sqrt{x}, x, x^2, x^3$ for $x \\in [1, 10]$."
   ]
  },
  {
   "cell_type": "code",
   "execution_count": 6,
   "metadata": {},
   "outputs": [
    {
     "name": "stdout",
     "output_type": "stream",
     "text": [
      "[ 1.  2.  3.  4.  5.  6.  7.  8.  9. 10.]\n"
     ]
    },
    {
     "data": {
      "image/png": "[encoded data removed]",
      "text/plain": [
       "<Figure size 432x288 with 1 Axes>"
      ]
     },
     "metadata": {
      "needs_background": "light"
     },
     "output_type": "display_data"
    }
   ],
   "source": [
    "x = np.linspace(1, 10, 10)  # 10 points evenly between 1 and 10.\n",
    "print(x)\n",
    "plt.plot(x, x**0.5, label=r\"$x^{1/2}$\")\n",
    "plt.plot(x, x**1, label=r\"$x$\")\n",
    "plt.plot(x, x**2, label=r\"$x^2$\")\n",
    "plt.plot(x, x**3, label=r\"$x^2$\")\n",
    "plt.legend()\n",
    "plt.show()"
   ]
  },
  {
   "cell_type": "markdown",
   "metadata": {
    "nbgrader": {
     "grade": false,
     "grade_id": "cell-ffd60653aaa42801",
     "locked": true,
     "schema_version": 3,
     "solution": false,
     "task": false
    }
   },
   "source": [
    "When visualizing functions where $y$ has many different orders of magnitude, a logarithmic scale is useful:"
   ]
  },
  {
   "cell_type": "code",
   "execution_count": 7,
   "metadata": {},
   "outputs": [
    {
     "data": {
      "image/png": "[encoded data removed]",
      "text/plain": [
       "<Figure size 432x288 with 1 Axes>"
      ]
     },
     "metadata": {
      "needs_background": "light"
     },
     "output_type": "display_data"
    }
   ],
   "source": [
    "x = np.linspace(1, 10, 10)\n",
    "plt.semilogy(x, x**0.5, label=r\"$x^{1/2}$\")\n",
    "plt.semilogy(x, x**1, label=r\"$x$\")\n",
    "plt.semilogy(x, x**2, label=r\"$x^2$\")\n",
    "plt.semilogy(x, x**3, label=r\"$x^2$\")\n",
    "plt.legend()\n",
    "plt.show()"
   ]
  },
  {
   "cell_type": "markdown",
   "metadata": {
    "nbgrader": {
     "grade": false,
     "grade_id": "cell-06341e9c8d7895d1",
     "locked": true,
     "schema_version": 3,
     "solution": false,
     "task": false
    }
   },
   "source": [
    "When also the $x$-axis contains many orders of magnitude, a log-log plot is most useful:"
   ]
  },
  {
   "cell_type": "code",
   "execution_count": 7,
   "metadata": {},
   "outputs": [
    {
     "name": "stdout",
     "output_type": "stream",
     "text": [
      "[1.e+01 1.e+02 1.e+03 1.e+04 1.e+05 1.e+06 1.e+07 1.e+08 1.e+09 1.e+10]\n"
     ]
    },
    {
     "data": {
      "image/png": "[encoded data removed]",
      "text/plain": [
       "<Figure size 432x288 with 1 Axes>"
      ]
     },
     "metadata": {
      "needs_background": "light"
     },
     "output_type": "display_data"
    },
    {
     "data": {
      "image/png": "[encoded data removed]",
      "text/plain": [
       "<Figure size 432x288 with 1 Axes>"
      ]
     },
     "metadata": {
      "needs_background": "light"
     },
     "output_type": "display_data"
    }
   ],
   "source": [
    "x = np.logspace(1, 10, 10, base=10)  # 10 points evenly between 10^1 and 10^10.\n",
    "print(x)\n",
    "\n",
    "plt.plot(x, x**0.5, label=r\"$x^{1/2}$\")\n",
    "plt.plot(x, x**1, label=r\"$x$\")\n",
    "plt.plot(x, x**2, label=r\"$x^2$\")\n",
    "plt.plot(x, x**3, label=r\"$x^2$\")\n",
    "plt.legend()\n",
    "plt.show()\n",
    "\n",
    "plt.loglog(x, x**0.5, label=r\"$x^{1/2}$\")\n",
    "plt.loglog(x, x**1, label=r\"$x$\")\n",
    "plt.loglog(x, x**2, label=r\"$x^2$\")\n",
    "plt.loglog(x, x**3, label=r\"$x^2$\")\n",
    "plt.legend()\n",
    "plt.show()"
   ]
  },
  {
   "cell_type": "markdown",
   "metadata": {},
   "source": [
    "-----\n",
    "# Exercise 1\n",
    "This exercise is a variant of exercise 1.6 in the book.\n",
    "\n",
    "## (a) \n",
    "Lookup the Taylor series for $\\cos(x)$ in the base point $0$. (You don't have to hand in the series expansion)\n",
    "## (b) (0.5 pt)\n",
    "What are the forward and backward errors if we approximate $\\cos(x)$ by the first **two** nonzero terms in the Taylor series at $x = 0.2$, $x = 1.0$ and $x = 2.0$?"
   ]
  },
  {
   "cell_type": "markdown",
   "metadata": {},
   "source": [
    "Using $1 − x^2/2 − \\cos{(x)}$ for the forward error and $\\arccos{(\\hat{y)}}$ for the backwards error."
   ]
  },
  {
   "cell_type": "code",
   "execution_count": 34,
   "metadata": {},
   "outputs": [
    {
     "name": "stdout",
     "output_type": "stream",
     "text": [
      "The forward error for x = 0.2, x = 1.0 and x = 2.0, are respectively:\n",
      "-6.657784124164401e-05\n",
      "-0.040302305868139765 \n",
      "-0.5838531634528576\n",
      "The backward error for x = 0.2, x = 1.0 and x = 2.0, are respectively:\n",
      "0.00033484232311967177\n",
      "0.04719755119659785 \n",
      "1.1415926535897931\n"
     ]
    }
   ],
   "source": [
    "def approx_cos(x, n_terms = 2):\n",
    "    \n",
    "    if n_terms == 2:\n",
    "        y_hat = 1 - (x ** 2 / 2)\n",
    "        \n",
    "    if n_terms == 3:\n",
    "        y_hat = 1 - (x ** 2 / 2) + (x ** 4 / math.factorial(4))\n",
    "    return y_hat\n",
    "\n",
    "\n",
    "def forward_error(x, n = 2):\n",
    "    y_hat = approx_cos(x, n)\n",
    "    return y_hat - math.cos(x)\n",
    "\n",
    "def backward_error(x, n = 2):\n",
    "    y_hat = approx_cos(x, n)\n",
    "    return math.acos(y_hat) - x\n",
    "\n",
    "print(f\"The forward error for x = 0.2, x = 1.0 and x = 2.0, are respectively:\\n\"\n",
    "      f\"{forward_error(0.2)}\\n{forward_error(1)} \\n{forward_error(2)}\")\n",
    "print(f\"The backward error for x = 0.2, x = 1.0 and x = 2.0, are respectively:\\n\"\n",
    "      f\"{backward_error(0.2)}\\n{backward_error(1)} \\n{backward_error(2)}\")"
   ]
  },
  {
   "cell_type": "markdown",
   "metadata": {},
   "source": [
    "## (c) (0.5 pt)\n",
    "What are the forward and backward errors if we approximate $\\cos(x)$ by the first **three** nonzero terms in the Taylor series at $x = 0.2$, $x = 1.0$ and $x = 2.0$?"
   ]
  },
  {
   "cell_type": "code",
   "execution_count": 35,
   "metadata": {},
   "outputs": [
    {
     "name": "stdout",
     "output_type": "stream",
     "text": [
      "The forward error for x = 0.2, x = 1.0 and x = 2.0, are respectively:\n",
      "8.882542501531532e-08\n",
      "0.0013643607985268646 \n",
      "0.08281350321380904\n",
      "The backward error for x = 0.2, x = 1.0 and x = 2.0, are respectively:\n",
      "-4.4710234142764094e-07\n",
      "-0.0016222452979235413 \n",
      "-0.0893667637509814\n"
     ]
    }
   ],
   "source": [
    "print(f\"The forward error for x = 0.2, x = 1.0 and x = 2.0, are respectively:\\n\"\n",
    "      f\"{forward_error(0.2, 3)}\\n{forward_error(1, 3)} \\n{forward_error(2, 3)}\")\n",
    "print(f\"The backward error for x = 0.2, x = 1.0 and x = 2.0, are respectively:\\n\"\n",
    "      f\"{backward_error(0.2, 3)}\\n{backward_error(1, 3)} \\n{backward_error(2, 3)}\")"
   ]
  },
  {
   "cell_type": "markdown",
   "metadata": {},
   "source": [
    "## (d) (1 pt)\n",
    "Compute the relative condition of $x \\mapsto \\cos(x)$ at $x = 0.2$, $x=1.0$ and $x=2.0$."
   ]
  },
  {
   "cell_type": "code",
   "execution_count": 41,
   "metadata": {},
   "outputs": [
    {
     "name": "stdout",
     "output_type": "stream",
     "text": [
      "The relative condition for x = 0.2, x = 1.0 and x = 2.0, is respectively:\n",
      "0.0405419623937287\n",
      "1.55659591908414\n",
      "4.4535724708658835\n"
     ]
    }
   ],
   "source": [
    "def cond(x):\n",
    "    true_y = math.cos(x)\n",
    "    rel_forward = forward_error(x, 3) / true_y\n",
    "    rel_backward = backward_error(x, 3) / x\n",
    "    return (abs(rel_forward) / abs(rel_backward))\n",
    "\n",
    "print(f\"The relative condition for x = 0.2, x = 1.0 and x = 2.0, is respectively:\\n\"\n",
    "      f\"{cond(0.2)}\\n{cond(1)}\\n{cond(2)}\")"
   ]
  },
  {
   "cell_type": "markdown",
   "metadata": {},
   "source": [
    "# Exercise 2"
   ]
  },
  {
   "cell_type": "markdown",
   "metadata": {},
   "source": [
    "This exercise is about computing the sum of a set of $n$ random numbers. You are asked to implement different ways to compute the sum. To be able to compare rounding errors for the different methods, all sums have to be executed in single precision (some hints are above), and implemented by yourself, unless specifically mentioned. The result of each sum can then be compared with a reference implementation that employs the standard double precision format.\n",
    "\n",
    "Vary $n$ by choosing different powers of 10 at least up to, say, $10^7$."
   ]
  },
  {
   "cell_type": "markdown",
   "metadata": {},
   "source": [
    "## (a)\n",
    "Create a function that returns an array of $n$ single precision random numbers (here denoted by $x_1$, $i=1, \\ldots, n$), uniformly distributed in the interval $[0,1]$. You may use a suitable function from `numpy.random`.\n",
    "\n",
    "Create a function to sum the numbers using double precision computations in the order they are generated. "
   ]
  },
  {
   "cell_type": "markdown",
   "metadata": {},
   "source": [
    "## (b) (a+b together 2 pts)\n",
    "Create a function to sum the numbers in the order in which they were generated, this time using single-precision computations. Visualize the errors as a function of $n$ using a log-log plot."
   ]
  },
  {
   "cell_type": "code",
   "execution_count": 99,
   "metadata": {},
   "outputs": [
    {
     "name": "stdout",
     "output_type": "stream",
     "text": [
      "[4.8333029970526695, 56.0471814237535, 481.51478914078325, 4973.752888137851, 50176.207696676014, 500218.99916123203, 5000002.596709534]\n",
      "[4.833303, 56.04718, 481.51477, 4973.753, 50176.203, 500218.9, 5000003.5]\n",
      "[2.2351741790771484e-08, 1.2479722499847412e-06, 1.863297075033188e-05, 4.1549648813088425e-05, 0.00457167601416586, 0.09291123203001916, 0.9032904664054513]\n"
     ]
    }
   ],
   "source": [
    "# TODO ik weet niet helemaal of dit zo moet maar zal wel los lopen\n",
    "\n",
    "n_options = np.logspace(1, 7, 7, base=10)\n",
    "double_sums = []\n",
    "single_sums = []\n",
    "error = []\n",
    "\n",
    "for n in n_options:\n",
    "    # Make n into integer\n",
    "    n = int(n)\n",
    "    \n",
    "    # Generate n single precision random numbers\n",
    "    double = np.single(np.random.rand(n))\n",
    "    \n",
    "    # Sum these numbers with double precision computations\n",
    "    summed = np.sum(np.double(double))\n",
    "    \n",
    "    # Sum these numbers using single precision computations\n",
    "    single_summed = np.sum(double)\n",
    "    \n",
    "    # Append to lists\n",
    "    double_sums.append(summed)\n",
    "    single_sums.append(single_summed)\n",
    "    \n",
    "    # Error should be absolute\n",
    "    error.append(abs(summed-single_summed))\n",
    "    \n",
    "print(double_sums)\n",
    "print(single_sums)\n",
    "print(error)"
   ]
  },
  {
   "cell_type": "code",
   "execution_count": 103,
   "metadata": {},
   "outputs": [
    {
     "data": {
      "image/png": "[encoded data removed]",
      "text/plain": [
       "<Figure size 432x288 with 1 Axes>"
      ]
     },
     "metadata": {
      "needs_background": "light"
     },
     "output_type": "display_data"
    },
    {
     "data": {
      "image/png": "[encoded data removed]",
      "text/plain": [
       "<Figure size 432x288 with 1 Axes>"
      ]
     },
     "metadata": {
      "needs_background": "light"
     },
     "output_type": "display_data"
    }
   ],
   "source": [
    "plt.title(\"Double and single precision sums in a log-log plot\")\n",
    "plt.loglog(n_options, double_sums, label=r\"double\")\n",
    "plt.loglog(n_options, single_sums, label=r\"single\")\n",
    "plt.xlabel(\"n\")\n",
    "plt.ylabel(\"Magnitude\")\n",
    "plt.legend()\n",
    "plt.show()\n",
    "\n",
    "plt.title(\"Error between double and single precision computation\")\n",
    "plt.loglog(n_options, error)\n",
    "plt.ylabel(\"Magnitude\")\n",
    "plt.xlabel(\"n\")\n",
    "plt.show()"
   ]
  },
  {
   "cell_type": "markdown",
   "metadata": {
    "tags": []
   },
   "source": [
    "## (c) (1.5 pts)\n",
    "Use the following compensated summation algorithm (due to Kahan), again using only single precision, to sum the numbers in the order in which they were generated:\n",
    "\n",
    "<img src=\"Kahan_alg.png\"\n",
    "     width=200>\n",
    " \n",
    "(algorithm at https://canvas.uva.nl/files/7499123/download?download_frd=1)\n",
    "\n",
    "Plot the error as a function of $n$."
   ]
  },
  {
   "cell_type": "code",
   "execution_count": 104,
   "metadata": {},
   "outputs": [],
   "source": [
    "# your code here\n",
    "# TODO"
   ]
  },
  {
   "cell_type": "markdown",
   "metadata": {},
   "source": [
    "## (d) (1.5 pts)\n",
    "Sum the numbers in increasing order of magnitude and plot the error. Sum the numbers in decreasing order of magnitude and plot the error. You may use a `sort` function from NumPy or some other package. (You don't need to use the Kahan sums here.)"
   ]
  },
  {
   "cell_type": "code",
   "execution_count": 12,
   "metadata": {},
   "outputs": [],
   "source": [
    "# your code here"
   ]
  },
  {
   "cell_type": "markdown",
   "metadata": {},
   "source": [
    "## (e) (2 pts)\n",
    "How do the methods rank in terms of accuracy? Can you explain the differences? Can you explain why the method of Kahan works? \n",
    "N.B.1 be precise in your explanations. Try to explain the size of any errors that are not incurred as well as of errors that are encurred.\n",
    "N.B.2 you are required to formulate an answer in text. You may also add computations if you feel this helps in the explanations."
   ]
  },
  {
   "cell_type": "markdown",
   "metadata": {},
   "source": [
    "Write your answer, using $\\LaTeX$, in this box."
   ]
  }
 ],
 "metadata": {
  "kernelspec": {
   "display_name": "Python 3",
   "language": "python",
   "name": "python3"
  },
  "language_info": {
   "codemirror_mode": {
    "name": "ipython",
    "version": 3
   },
   "file_extension": ".py",
   "mimetype": "text/x-python",
   "name": "python",
   "nbconvert_exporter": "python",
   "pygments_lexer": "ipython3",
   "version": "3.8.5"
  }
 },
 "nbformat": 4,
 "nbformat_minor": 5
}
