{
 "cells": [
  {
   "cell_type": "markdown",
   "metadata": {
    "nbgrader": {
     "grade": false,
     "grade_id": "cell-06d3e5bf55c941ae",
     "locked": true,
     "schema_version": 3,
     "solution": false,
     "task": false
    }
   },
   "source": [
    "# Homework set 2"
   ]
  },
  {
   "cell_type": "markdown",
   "metadata": {
    "nbgrader": {
     "grade": false,
     "grade_id": "cell-736ff6bc3e0d0696",
     "locked": true,
     "schema_version": 3,
     "solution": false,
     "task": false
    }
   },
   "source": [
    "Please **submit this Jupyter notebook through Canvas** no later than **Mon Nov. 14, 9:00**. **Submit the notebook file with your answers (as .ipynb file) and a pdf printout. The pdf version can be used by the teachers to provide feedback. A pdf version can be made using the save and export option in the Jupyter Lab file menu.**\n",
    "\n",
    "Homework is in **groups of two**, and you are expected to hand in original work. Work that is copied from another group will not be accepted."
   ]
  },
  {
   "cell_type": "markdown",
   "metadata": {
    "nbgrader": {
     "grade": false,
     "grade_id": "cell-b13bc5ed16bce8e0",
     "locked": true,
     "schema_version": 3,
     "solution": false,
     "task": false
    }
   },
   "source": [
    "# Exercise 0\n",
    "Write down the names + student ID of the people in your group."
   ]
  },
  {
   "cell_type": "markdown",
   "metadata": {},
   "source": [
    "Karin Brinksma 13919938 Dominique Weltevreden 12161160"
   ]
  },
  {
   "cell_type": "markdown",
   "metadata": {
    "nbgrader": {
     "grade": false,
     "grade_id": "cell-b5a7855ecca9f6be",
     "locked": true,
     "schema_version": 3,
     "solution": false,
     "task": false
    }
   },
   "source": [
    "Run the following cell to import some packages, add additional packages yourself when needed."
   ]
  },
  {
   "cell_type": "code",
   "execution_count": 3,
   "metadata": {},
   "outputs": [],
   "source": [
    "import numpy as np\n",
    "import matplotlib.pyplot as plt\n",
    "from scipy import linalg"
   ]
  },
  {
   "cell_type": "markdown",
   "metadata": {},
   "source": [
    "# Exercise 1"
   ]
  },
  {
   "cell_type": "markdown",
   "metadata": {},
   "source": [
    "## (a) 1 point\n",
    "Let $A$ be the matrix $\\begin{bmatrix} 1 & -1 & \\alpha \\\\ 2 & 2 & 1 \\\\ 0 & \\alpha & -3/2 \\end{bmatrix}$. For which values of $\\alpha$ is $A$ singular?"
   ]
  },
  {
   "cell_type": "markdown",
   "metadata": {},
   "source": [
    "YOUR ANSWER HERE"
   ]
  },
  {
   "cell_type": "markdown",
   "metadata": {},
   "source": [
    "## (b) 1 point\n",
    "For the largest value of $\\alpha$ you found above, find a nonzero vector $b$ such that $Ax = b$ has infinitely many solutions. Explain your answer."
   ]
  },
  {
   "cell_type": "markdown",
   "metadata": {},
   "source": [
    "YOUR ANSWER HERE"
   ]
  },
  {
   "cell_type": "markdown",
   "metadata": {},
   "source": [
    "# Exercise 2"
   ]
  },
  {
   "cell_type": "markdown",
   "metadata": {},
   "source": [
    "For solving linear systems such as $Ax = b$, it is unnecessary (and often unstable) to compute the inverse $A^{-1}$. Nonetheless, there can be situations where it is useful to compute $A^{-1}$ explicitly. One way to do so is by using the LU-decomposition of $A$."
   ]
  },
  {
   "cell_type": "markdown",
   "metadata": {},
   "source": [
    "## (a) 2 points\n",
    "Write an algorithm to compute $A^{-1}$ for a non-singular matrix $A$ using its LU-decomposition. You can use `scipy.linalg.lu` (which returns an LU-decomposition with _partial pivoting_, i.e., with a permutation matrix $P$) and the other `scipy.linalg.lu_*` functions, but not `scipy.linalg.inv` (or other methods for computing matrix inverses directly).\n",
    "\n",
    "(Make sure to import the necessary functions/packages.)"
   ]
  },
  {
   "cell_type": "code",
   "execution_count": 32,
   "metadata": {
    "nbgrader": {
     "cell_type": "code",
     "checksum": "b011ebd554ea10da4a53655bdadd6383",
     "grade": true,
     "grade_id": "cell-6f892d33e776e31f",
     "locked": false,
     "points": 2,
     "schema_version": 3,
     "solution": true,
     "task": false
    }
   },
   "outputs": [
    {
     "name": "stdout",
     "output_type": "stream",
     "text": [
      "[[ 1.8 -1.2  0.2]\n",
      " [ 1.  -0.5  0. ]\n",
      " [-5.8  3.7 -0.2]]\n",
      "[[ 1.80000000e+00 -1.20000000e+00  2.00000000e-01]\n",
      " [ 1.00000000e+00 -5.00000000e-01  1.38777878e-17]\n",
      " [-5.80000000e+00  3.70000000e+00 -2.00000000e-01]]\n",
      "True\n"
     ]
    }
   ],
   "source": [
    "def forward_substitution(L, b):\n",
    "    #source https://johnfoster.pge.utexas.edu/numerical-methods-book/LinearAlgebra_LU.html\n",
    "    # or alternatively https://ristohinno.medium.com/lu-decomposition-41a3cb0d1ba\n",
    "    \"\"\"\n",
    "    Forward substitution for an LU decompostion; solves Ly = b for y\n",
    "    \"\"\"\n",
    "    #Get number of rows\n",
    "    n = L.shape[0]\n",
    "    \n",
    "    #Allocating space for the solution vector\n",
    "    y = np.empty(n)\n",
    "    \n",
    "    # Here we perform the forward-substitution, initializing  with the first row.\n",
    "    y[0] = b[0] / L[0, 0]\n",
    "    \n",
    "    # Looping over rows in reverse (from the bottom  up), starting with the second to last row, because  the \n",
    "    # last row solve was completed in the last step.\n",
    "    for i in range(1, n):\n",
    "        y[i] = (b[i] - (L[i,:i] @ y[:i])) / L[i,i]  \n",
    "        \n",
    "    return y\n",
    "\n",
    "def back_substitution(U, y):\n",
    "    \"\"\"\n",
    "    Backward substition for an LU decompostion; solves Ux = y for x\n",
    "    \"\"\"\n",
    "    #source https://johnfoster.pge.utexas.edu/numerical-methods-book/LinearAlgebra_LU.html\n",
    "    \n",
    "    #Number of rows\n",
    "    n = U.shape[0]\n",
    "    x = np.zeros(n)\n",
    "    \n",
    "    # Here we perform the back-substitution, initializing with the last row.\n",
    "    x[-1] = y[-1] / U[-1, -1]\n",
    "    \n",
    "    # Looping over rows in reverse (from the bottom up), starting with the second to last row, because the \n",
    "    # last row solve was completed in the last step.\n",
    "    for i in range(n - 2, -1, -1):\n",
    "        x[i] = (y[i] - (U[i,i:] @ x[i:])) / U[i,i]\n",
    "    return x\n",
    "\n",
    "def invert(A):\n",
    "    #source: https://johnfoster.pge.utexas.edu/numerical-methods-book/LinearAlgebra_LU.html\n",
    "    \n",
    "    # Check if the determinant is not 0, i.e. the matrix is not invertible\n",
    "    assert (linalg.det(A))\n",
    "    \n",
    "    # Find n based on A\n",
    "    n = A.shape[0]\n",
    "    \n",
    "    # b will be rows of the identity matrix, as you're inverting it\n",
    "    B = np.eye(n)\n",
    "    \n",
    "    # Initialize the inverted A matrix \n",
    "    A_inv = np.empty((n, n))\n",
    "    \n",
    "    # Perform LU decomposition\n",
    "    P, L, U = linalg.lu(A)\n",
    "    \n",
    "    # Get one row of the identity matrix to use as b\n",
    "    for i in range(n):\n",
    "        \n",
    "        # Get y from forward substitution\n",
    "        y = forward_substitution(L, (P @ (B[i, :])))\n",
    "        \n",
    "        # Add this solution for x from backward substitution as a column to the inverse matrix\n",
    "        #print(back_substitution(U, y))\n",
    "        A_inv[:, i] = back_substitution(U, y)\n",
    "        \n",
    "    return A_inv\n",
    "\n",
    "A_matrix = np.array([[1, 5, 1], [2, 8, 2], [8, 3, 3]])\n",
    "\n",
    "inv = invert(A_matrix)\n",
    "print(inv)\n",
    "\n",
    "actual_inv = linalg.inv(A_matrix)\n",
    "print(actual_inv)\n",
    "equal = np.allclose(inv, actual_inv)\n",
    "print(equal)\n"
   ]
  },
  {
   "cell_type": "markdown",
   "metadata": {},
   "source": [
    "## (b) 1 point\n",
    "What is the computational complexity of your algorithm, given that the input matrix has size $n \\times n$?\n",
    "Give a short calculation/explanation for your answer."
   ]
  },
  {
   "cell_type": "markdown",
   "metadata": {
    "nbgrader": {
     "cell_type": "markdown",
     "checksum": "2dd9d0b893218b8e70d7a0a66f09e514",
     "grade": true,
     "grade_id": "cell-a15cf95231b8aa77",
     "locked": false,
     "points": 1,
     "schema_version": 3,
     "solution": true,
     "task": false
    }
   },
   "source": [
    "The computational complexity of this algorithm where a matrix is explicitly inverted using LU decomposition is, in Big O notation, $\\mathcal{O}(n^3)$.\n",
    "\n",
    "The algorithm requires an LU decomposition and a loop of n complexity for all the columns of the identity matrix of size n. In the loop, forward and backward substitutions, which have a complexity of $n^2$. This is because there is a loop over n and within this loop a dot product is calculated, with a complexity of n. This would mean $2n^2$ for both operations, within a loop of n; leading to $2n^3$. This reduces to $n^3$ as n approaches infinity."
   ]
  },
  {
   "cell_type": "markdown",
   "metadata": {},
   "source": [
    "# Exercise 3"
   ]
  },
  {
   "cell_type": "markdown",
   "metadata": {},
   "source": [
    "## (a) (2 points) \n",
    "What happens when Gaussian elimination with partial pivoting is used on a matrix of the following form?\n",
    "$$\n",
    "  \\begin{bmatrix}\n",
    "     1 &  0 &  0 &  0 &  1 \\\\\n",
    "    -1 &  1 &  0 &  0 &  1 \\\\\n",
    "    -1 & -1 &  1 &  0 &  1 \\\\\n",
    "    -1 & -1 & -1 &  1 &  1 \\\\\n",
    "    -1 & -1 & -1 & -1 &  1 \n",
    "  \\end{bmatrix}\n",
    "$$\n",
    "Do the entries of the transformed matrix grow? What happens if complete pivoting is used instead? (Note that part (a) does not require a computer.)\n"
   ]
  },
  {
   "cell_type": "markdown",
   "metadata": {},
   "source": [
    "YOUR ANSWER HERE"
   ]
  },
  {
   "cell_type": "markdown",
   "metadata": {},
   "source": [
    "## (b) (2 points)\n",
    "Write a method that generates a matrix of the form of part (a) of size $n \\times n$ for any $n$. Use a library routine for Gaussian elimination with partial pivoting to solve various sizes of linear systems of this form, using right-hand-side vectors chosen so that the solution is known. Try for example the case where the true solution is a vector of uniformly distributed random numbers between 0 and 1. How do the error, residual, and condition number behave as the systems become larger? Comment on the stability (see chapter 1) of Gaussian elimination with partial pivoting in this case.\n",
    "/\n",
    "N.B. This is an artificially contrived system that does not reflect the behavior of Gaussian elimination in realistic examples."
   ]
  },
  {
   "cell_type": "code",
   "execution_count": 108,
   "metadata": {},
   "outputs": [
    {
     "data": {
      "image/png": "[encoded data removed]",
      "text/plain": [
       "<Figure size 432x288 with 1 Axes>"
      ]
     },
     "metadata": {
      "needs_background": "light"
     },
     "output_type": "display_data"
    },
    {
     "data": {
      "image/png": "[encoded data removed]",
      "text/plain": [
       "<Figure size 432x288 with 1 Axes>"
      ]
     },
     "metadata": {
      "needs_background": "light"
     },
     "output_type": "display_data"
    },
    {
     "data": {
      "image/png": "[encoded data removed]",
      "text/plain": [
       "<Figure size 432x288 with 1 Axes>"
      ]
     },
     "metadata": {
      "needs_background": "light"
     },
     "output_type": "display_data"
    },
    {
     "data": {
      "image/png": "[encoded data removed]",
      "text/plain": [
       "<Figure size 432x288 with 1 Axes>"
      ]
     },
     "metadata": {
      "needs_background": "light"
     },
     "output_type": "display_data"
    }
   ],
   "source": [
    "def create_matrix(n):\n",
    "    A = np.ones((n,n))\n",
    "    \n",
    "    # Get lower triangular matrix with -1\n",
    "    A = np.tril(A, -1) * -1\n",
    "           \n",
    "    A += np.identity(n) \n",
    "    \n",
    "    # Set last column to ones           \n",
    "    A[:, -1] = 1\n",
    "    #print(A)\n",
    "    return A\n",
    "\n",
    "def generate_x(n):\n",
    "    return np.random.rand(n, 1)\n",
    "\n",
    "def get_b(A, x):\n",
    "    return A @ x\n",
    "\n",
    "def get_lu_x(A, b):\n",
    "    \"\"\"\n",
    "    LU decomposition with partial pivoting\n",
    "    \"\"\"\n",
    "    lu = linalg.lu_factor(A)\n",
    "    x = linalg.lu_solve(lu, b)\n",
    "    return x\n",
    "\n",
    "\n",
    "n_options = np.arange(1, 300, 10)\n",
    "errors = []\n",
    "condition_nrs = []\n",
    "residuals = []\n",
    "rel_ress = []\n",
    "\n",
    "for n_chosen in n_options:\n",
    "    \n",
    "    # Generate matrix\n",
    "    matrix = create_matrix(n_chosen)\n",
    "    \n",
    "    # Generate a given x\n",
    "    true_x = generate_x(n_chosen)\n",
    "    \n",
    "    # Calculate b with this x\n",
    "    true_b = get_b(matrix, true_x)\n",
    "    \n",
    "    # Approximate x using this b and the Gaussian elimination\n",
    "    x_hat = get_lu_x(matrix, true_b)\n",
    "    \n",
    "    # Calculate error\n",
    "    error = np.linalg.norm(x_hat - true_x)\n",
    "\n",
    "    errors.append(error)\n",
    "    \n",
    "    # Calculate residuals by using the x_hat to calculate the solution b\n",
    "    b_hat = get_b(matrix, x_hat)\n",
    "    \n",
    "    residual = np.linalg.norm(b_hat - true_b)\n",
    "\n",
    "    residuals.append(residual)\n",
    "    \n",
    "    # Relative residual\n",
    "    rel_res = residual / (np.linalg.norm(matrix) * np.linalg.norm(x_hat))\n",
    "    \n",
    "    rel_ress.append(rel_res)\n",
    "    \n",
    "    # Calculate condition number for this matrix\n",
    "    cond = np.linalg.cond(matrix)\n",
    "    \n",
    "    condition_nrs.append(cond)\n",
    "    \n",
    "\n",
    "plt.plot(n_options, errors, label=r\"double\")\n",
    "plt.title(\"Errors\")\n",
    "plt.xlabel(\"n\")\n",
    "plt.show()\n",
    "plt.title(\"Condition number of the matrix\")\n",
    "plt.plot(n_options, condition_nrs)\n",
    "plt.xlabel(\"n\")\n",
    "plt.show()\n",
    "plt.plot(n_options, residuals)\n",
    "plt.title(\"Residuals\")\n",
    "plt.xlabel(\"n\")\n",
    "plt.show()\n",
    "plt.plot(n_options, rel_ress)\n",
    "plt.title(\"Relative residuals\")\n",
    "plt.xlabel(\"n\")\n",
    "plt.show()\n",
    "\n",
    "\n"
   ]
  },
  {
   "cell_type": "markdown",
   "metadata": {},
   "source": [
    "As the n increases, so does the condition number of the matrix; with a higher condition number, the system is more sensitive to relatively small disturbances in the input.\n",
    "A relatively large residual implies a large backward error in the matrix, which means an unstable algorithm; the relative residual varies somewhat, but does not seems to be particularly small and increases as the n increases. "
   ]
  },
  {
   "cell_type": "code",
   "execution_count": null,
   "metadata": {},
   "outputs": [],
   "source": []
  }
 ],
 "metadata": {
  "kernelspec": {
   "display_name": "Python 3",
   "language": "python",
   "name": "python3"
  },
  "language_info": {
   "codemirror_mode": {
    "name": "ipython",
    "version": 3
   },
   "file_extension": ".py",
   "mimetype": "text/x-python",
   "name": "python",
   "nbconvert_exporter": "python",
   "pygments_lexer": "ipython3",
   "version": "3.8.5"
  }
 },
 "nbformat": 4,
 "nbformat_minor": 5
}
