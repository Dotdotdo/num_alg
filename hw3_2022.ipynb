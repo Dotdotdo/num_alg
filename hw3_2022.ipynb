{
 "cells": [
  {
   "cell_type": "markdown",
   "metadata": {
    "nbgrader": {
     "grade": false,
     "grade_id": "cell-06d3e5bf55c941ae",
     "locked": true,
     "schema_version": 3,
     "solution": false,
     "task": false
    },
    "tags": []
   },
   "source": [
    "# Homework set 3"
   ]
  },
  {
   "cell_type": "markdown",
   "metadata": {
    "nbgrader": {
     "grade": false,
     "grade_id": "cell-736ff6bc3e0d0696",
     "locked": true,
     "schema_version": 3,
     "solution": false,
     "task": false
    }
   },
   "source": [
    "Please **submit this Jupyter notebook through Canvas** no later than **Mon Nov. 21, 9:00**. **Submit the notebook file with your answers (as .ipynb file) and a pdf printout. The pdf version can be used by the teachers to provide feedback. A pdf version can be made using the save and export option in the Jupyter Lab file menu.**\n",
    "\n",
    "Homework is in **groups of two**, and you are expected to hand in original work. Work that is copied from another group will not be accepted."
   ]
  },
  {
   "cell_type": "markdown",
   "metadata": {
    "nbgrader": {
     "grade": false,
     "grade_id": "cell-b13bc5ed16bce8e0",
     "locked": true,
     "schema_version": 3,
     "solution": false,
     "task": false
    }
   },
   "source": [
    "# Exercise 0\n",
    "Write down the names + student ID of the people in your group."
   ]
  },
  {
   "cell_type": "markdown",
   "metadata": {
    "nbgrader": {
     "grade": true,
     "grade_id": "cell-fd464f55ba436b1c",
     "locked": false,
     "points": 0,
     "schema_version": 3,
     "solution": true,
     "task": false
    }
   },
   "source": [
    "Karin Brinksma 13919938 Dominique Weltevreden 12161160"
   ]
  },
  {
   "cell_type": "markdown",
   "metadata": {
    "nbgrader": {
     "grade": false,
     "grade_id": "cell-b5a7855ecca9f6be",
     "locked": true,
     "schema_version": 3,
     "solution": false,
     "task": false
    }
   },
   "source": [
    "Run the following cell to import NumPy and Pyplot."
   ]
  },
  {
   "cell_type": "code",
   "execution_count": 3,
   "metadata": {},
   "outputs": [],
   "source": [
    "import numpy as np\n",
    "import matplotlib.pyplot as plt\n",
    "from scipy import linalg"
   ]
  },
  {
   "cell_type": "markdown",
   "metadata": {},
   "source": [
    "# Exercise 1"
   ]
  },
  {
   "cell_type": "markdown",
   "metadata": {},
   "source": [
    "In this exercise you will study the accuracy of several methods for computing the QR decomposition. You are asked to implement these methods yourself. (However, when testing your implementation you may compare with an external implementation.)\n"
   ]
  },
  {
   "cell_type": "markdown",
   "metadata": {},
   "source": [
    "## (a) \n",
    "Implement the classical and modified Gram-Schmidt procedures for computing the QR decomposition.\n",
    "\n",
    "Include a short documentation using triple quotes: describe at least the input and the output, and whether the code modifies the input matrix.\n"
   ]
  },
  {
   "cell_type": "code",
   "execution_count": 24,
   "metadata": {},
   "outputs": [
    {
     "name": "stdout",
     "output_type": "stream",
     "text": [
      "QR decomposition of the classical method is correct: True\n",
      "However, there is a loss of orthogonality; Qt @ Q should be identity matrix:\n",
      " [[ 1.     0.952 -0.   ]\n",
      " [ 0.952  1.     0.114]\n",
      " [-0.     0.114  1.   ]]\n",
      "QR decomposition of the classical method is correct: True\n",
      "The loss of orthogonality seems to not be an issue for the modified method:\n",
      " [[ 1.  0. -0.]\n",
      " [ 0.  1. -0.]\n",
      " [-0. -0.  1.]]\n"
     ]
    }
   ],
   "source": [
    "def classical_gram_schmidt(A):\n",
    "    \"\"\"\n",
    "    QR decomposition using classical Gram-Schmidt procedures. Loses orthogonality due to rounding error.\n",
    "    Input: \n",
    "    A = m x n matrix that forms a basis (l.i. columns). m must be larger than n. Input is not changed.\n",
    "    \n",
    "    Returns:\n",
    "    R = Upper triangular matrix\n",
    "    Q = Orthogonal matrix \n",
    "    \n",
    "    \"\"\"\n",
    "    # Get shape of matrix A\n",
    "    m, n = np.shape(A)\n",
    "    assert m >= n, \"Matrix should have more or equal rows to columns\"\n",
    "    \n",
    "    # Make empty QR matrixes in right form; R with 0 because we only fill in the rest of the squares\n",
    "    # R is a square matrix; Q is m x n\n",
    "    R = np.zeros((n, n))\n",
    "    Q = np.array(A, dtype= 'float64')\n",
    "    \n",
    "    # Take the first column of A to be the first vector and normalize it to form an orthogonal basis\n",
    "    # The top-left value for R is the norm of the first column of A\n",
    "\n",
    "    Q[:, 0] = A[:, 0] / linalg.norm(A[:, 0])\n",
    "    R[0, 0] = A[:, 0] @ Q[:, 0]\n",
    "    \n",
    "    # Loop over the rest of the columns\n",
    "    for k in range(1, n):\n",
    "        \n",
    "        # Get the current column being transformed into an orthogonal vector\n",
    "        a = A[:, k]\n",
    "        \n",
    "        # Set u as a\n",
    "        u = a\n",
    "    \n",
    "        # Calculate u through the iterative process of multiplying previous u and a vectors\n",
    "        for e_k in range(0, k-1):\n",
    "        \n",
    "            e_prev_k = Q[:, e_k]\n",
    "          \n",
    "            # Calculate the top row of R by taking the current a vector and multiplying it with previous e_ks\n",
    "            R[e_k, k] = (a @ e_prev_k)\n",
    "            \n",
    "            # Calculate u\n",
    "            u = u - ((a @ e_prev_k) * e_prev_k)\n",
    "            \n",
    "            # Check linear independence\n",
    "            assert not np.array_equal(u, np.zeros(u.shape)), \"The column vectors are not linearly independent\"\n",
    "        \n",
    "        # Normalize the u vector by the norm of u\n",
    "        Q[:, k] = u / (linalg.norm(u) ) \n",
    "        \n",
    "        # Get current R for this k\n",
    "        R[k, k] = a @ Q[:, k]\n",
    "             \n",
    "        \n",
    "    return Q, R\n",
    "\n",
    "def modified_gram_schmidt(A):\n",
    "    \"\"\"\n",
    "    QR decomposition using modified Gram-Schmidt procedures; superior numerically to classical Gram-Schmidt.\n",
    "    Input: \n",
    "    A = m x n matrix that forms a basis (l.i. columns). m must be larger than n. Input is not changed.\n",
    "    \n",
    "    Returns:\n",
    "    R = Upper triangular matrix\n",
    "    Q = Orthogonal matrix \n",
    "    \n",
    "    Taken from https://github.com/kajetanj/QR-MGS-decomp/blob/master/decompose.py\n",
    "    \"\"\"\n",
    "    m, n = np.shape(A)\n",
    "    assert m >= n, \"Matrix should have more or equal rows to columns\"\n",
    "\n",
    "    Q = np.array(A, dtype='float64')\n",
    "    R = np.zeros((n, n))\n",
    "    \n",
    "    # Loop over columns\n",
    "    for k in range(n):\n",
    "        a_k = Q[:, k]\n",
    "        R[k,k] = np.linalg.norm(a_k) \n",
    "        \n",
    "        # Check linear independence\n",
    "        assert R[k,k], \"The column vectors are not linearly independent\"\n",
    "       \n",
    "        # Normalize current column\n",
    "        a_k /= R[k, k]\n",
    "        \n",
    "        for i in range(k+1, n):\n",
    "            # subtract from succeeding columns their components in current column \n",
    "            a_i = Q[:, i]\n",
    "            R[k,i] = a_k.T @ a_i\n",
    "            a_i -= R[k, i] * a_k\n",
    "\n",
    "    return Q, R\n",
    "\n",
    "matrix = np.array([\n",
    "            [1.0, 1.0, -3.0],\n",
    "            [3.0, 2.0, 1.0],\n",
    "            [-2.0, 0.5, 2.5],\n",
    "            [-8, -6, 2]\n",
    "        ])\n",
    "calc_q, calc_r = classical_gram_schmidt(matrix)\n",
    "print(f\"QR decomposition of the classical method is correct: {np.allclose(matrix, calc_q @ calc_r)}\")\n",
    "print(\"However, there is a loss of orthogonality; Qt @ Q should be identity matrix:\\n\", np.around(calc_q.T @ calc_q, 3))\n",
    "\n",
    "mod_q, mod_r = modified_gram_schmidt(matrix)\n",
    "print(f\"QR decomposition of the classical method is correct: {np.allclose(matrix, mod_q @ mod_r)}\" )\n",
    "print(\"The loss of orthogonality seems to not be an issue for the modified method:\\n\", np.around(mod_q.T @ mod_q, 3))"
   ]
  },
  {
   "cell_type": "markdown",
   "metadata": {},
   "source": [
    "## (b) (a+b 3.5 pts)\n",
    "Let $H$ be a Hilbert matrix of size $n$ (see Computer Problem 2.6). Study the quality of the QR decompositions obtained using the two methods of part (a), specifically the loss of orthogonality. In order to do so, plot the quantity $\\| I - Q^T Q \\|$ as a function of $n$ on a log scale. Vary $n$ from $2$ to $12$.\n",
    "\n"
   ]
  },
  {
   "cell_type": "code",
   "execution_count": 29,
   "metadata": {},
   "outputs": [
    {
     "data": {
      "image/png": "[encoded data removed]",
      "text/plain": [
       "<Figure size 432x288 with 1 Axes>"
      ]
     },
     "metadata": {
      "needs_background": "light"
     },
     "output_type": "display_data"
    }
   ],
   "source": [
    "n_options = np.arange(2, 14, 2)\n",
    "classical_losses = []\n",
    "modified_losses = []\n",
    "\n",
    "for n in n_options:\n",
    "    matrix = linalg.hilbert(n)\n",
    "    \n",
    "    Q_classical = classical_gram_schmidt(matrix)[0]\n",
    "    c_loss = np.linalg.norm(np.identity(n) - (Q_classical.T @ Q_classical))\n",
    "    classical_losses.append(c_loss)\n",
    "    \n",
    "    Q_modified = modified_gram_schmidt(matrix)[0]\n",
    "    m_loss = np.linalg.norm(np.identity(n) - (Q_modified.T @ Q_modified))\n",
    "    modified_losses.append(m_loss)\n",
    "    \n",
    "    \n",
    "plt.semilogy(n_options, classical_losses, label = \"Classic\")\n",
    "plt.semilogy(n_options, modified_losses, label = \"Modified\")\n",
    "plt.legend()\n",
    "plt.title(\"Loss of orthogonality for classic and modified QR decomposition using Gram-Schmidt\")\n",
    "plt.show()"
   ]
  },
  {
   "cell_type": "markdown",
   "metadata": {},
   "source": [
    "The classical Gram-Schmidt algorithm is not ideal for numerical calculations since it is known to be unstable."
   ]
  },
  {
   "cell_type": "markdown",
   "metadata": {},
   "source": [
    "## (c) (1.5 pts)\n",
    "Try applying the classical procedure twice. Plot again the loss of orthogonality when computing the QR decomposition of the Hilbert matrix of size $n$ as in (b).\n"
   ]
  },
  {
   "cell_type": "code",
   "execution_count": 41,
   "metadata": {},
   "outputs": [
    {
     "data": {
      "image/png": "[encoded data removed]",
      "text/plain": [
       "<Figure size 432x288 with 1 Axes>"
      ]
     },
     "metadata": {
      "needs_background": "light"
     },
     "output_type": "display_data"
    }
   ],
   "source": [
    "n_options = np.arange(2, 14, 2)\n",
    "classical_losses = []\n",
    "classical2_losses = []\n",
    "\n",
    "for n in n_options:\n",
    "    matrix = linalg.hilbert(n)\n",
    "    \n",
    "    Q_classical = classical_gram_schmidt(matrix)[0]\n",
    "    c_loss = np.linalg.norm(np.identity(n) - (Q_classical.T @ Q_classical))\n",
    "    classical_losses.append(c_loss)\n",
    "    \n",
    "    Q_classical2 = classical_gram_schmidt(Q_classical)[0]\n",
    "    c_loss2 = np.linalg.norm(np.identity(n) - (Q_classical2.T @ Q_classical2))\n",
    "    classical2_losses.append(c_loss2)\n",
    "    \n",
    "    \n",
    "plt.semilogy(n_options, classical_losses, label = \"Classic\")\n",
    "plt.semilogy(n_options, classical2_losses, label = \"Reorthogonalization\")\n",
    "plt.legend()\n",
    "plt.title(\"Loss of orthogonality using the classic QR decomposition using Gram-Schmidt method twice\")\n",
    "plt.show()"
   ]
  },
  {
   "cell_type": "markdown",
   "metadata": {},
   "source": [
    "## (d) (2 pts)\n",
    "Implement the Householder method for computing the QR decomposition. Remember to include a short documentation."
   ]
  },
  {
   "cell_type": "code",
   "execution_count": 416,
   "metadata": {},
   "outputs": [],
   "source": [
    "#Werkt nog niet\n",
    "\n",
    "\n",
    "def get_norm(x):\n",
    "    return np.sqrt(np.sum(np.square(x)))\n",
    "\n",
    "\n",
    "def sign(x):\n",
    "    if x<0:\n",
    "        return -1\n",
    "    else: \n",
    "        return 1\n",
    "    \n",
    "    \n",
    "def householder_qr(A):\n",
    "    # Implementation of algorithm 3.1 of Scientific Computing, an introduction (p 124)\n",
    "    R = A.copy()\n",
    "    m, n = (R.shape)\n",
    "    I = np.identity(m)\n",
    "    \n",
    "    for k in range(0, min(n, m-1)):\n",
    "        alpha_k = - sign(A[k,k]) * get_norm(A[k:, k])\n",
    "        e_k = I[:, k]\n",
    "        v_k = np.transpose(np.append(np.zeros(k), R[k:m,k]) - alpha_k * e_k)\n",
    "        print(v_k)\n",
    "        \n",
    "        beta_k = np.dot(np.transpose(v_k), v_k)\n",
    "        \n",
    "        if beta_k != 0:\n",
    "            for j in range(k, n):\n",
    "                gamma_j = np.dot(np.transpose(v_k), R[:,j])\n",
    "                R[:,j] = R[:,j] - np.transpose((2*gamma_j / beta_k) * v_k)\n",
    "                \n",
    "        print(R)\n",
    "    \n",
    "    print(\"end\")\n",
    "    print(R)     "
   ]
  },
  {
   "cell_type": "code",
   "execution_count": 419,
   "metadata": {},
   "outputs": [
    {
     "name": "stdout",
     "output_type": "stream",
     "text": [
      "[2.41421356 1.         0.        ]\n",
      "[[-1  0  0]\n",
      " [ 0  0  0]\n",
      " [ 0  1  1]]\n",
      "[0. 1. 1.]\n",
      "[[-1  0  0]\n",
      " [ 0 -1 -1]\n",
      " [ 0  0  0]]\n",
      "end\n",
      "[[-1  0  0]\n",
      " [ 0 -1 -1]\n",
      " [ 0  0  0]]\n"
     ]
    }
   ],
   "source": [
    "A = np.matrix([[1,1,0],[1,0,1],[0,1,1]])\n",
    "householder_qr(A)"
   ]
  },
  {
   "cell_type": "markdown",
   "metadata": {},
   "source": [
    "## (e) (2 pts)\n",
    "Perform the analysis of (b) for the Householder method. Discuss the differences between all the methods you have tested so far. Look online and/or in books for information about the accuracy of the different methods and include this in your explanations (with reference).\n"
   ]
  },
  {
   "cell_type": "code",
   "execution_count": null,
   "metadata": {},
   "outputs": [],
   "source": [
    "# YOUR CODE HERE"
   ]
  },
  {
   "cell_type": "markdown",
   "metadata": {},
   "source": []
  },
  {
   "cell_type": "code",
   "execution_count": null,
   "metadata": {},
   "outputs": [],
   "source": []
  }
 ],
 "metadata": {
  "kernelspec": {
   "display_name": "Python 3",
   "language": "python",
   "name": "python3"
  },
  "language_info": {
   "codemirror_mode": {
    "name": "ipython",
    "version": 3
   },
   "file_extension": ".py",
   "mimetype": "text/x-python",
   "name": "python",
   "nbconvert_exporter": "python",
   "pygments_lexer": "ipython3",
   "version": "3.8.5"
  }
 },
 "nbformat": 4,
 "nbformat_minor": 5
}
