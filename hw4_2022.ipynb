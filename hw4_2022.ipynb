{
 "cells": [
  {
   "cell_type": "markdown",
   "metadata": {
    "nbgrader": {
     "grade": false,
     "grade_id": "cell-06d3e5bf55c941ae",
     "locked": true,
     "schema_version": 3,
     "solution": false,
     "task": false
    },
    "tags": []
   },
   "source": [
    "# Homework set 4"
   ]
  },
  {
   "cell_type": "markdown",
   "metadata": {
    "nbgrader": {
     "grade": false,
     "grade_id": "cell-736ff6bc3e0d0696",
     "locked": true,
     "schema_version": 3,
     "solution": false,
     "task": false
    }
   },
   "source": [
    "Before you turn this problem in, make sure everything runs as expected (in the menubar, select Kernel → Restart Kernel and Run All Cells...).\n",
    "\n",
    "Please **submit this Jupyter notebook through Canvas** no later than **Mon Nov. 28, 9:00**. **Submit the notebook file with your answers (as .ipynb file) and a pdf printout. The pdf version can be used by the teachers to provide feedback. A pdf version can be made using the save and export option in the Jupyter Lab file menu.**\n",
    "\n",
    "Homework is in **groups of two**, and you are expected to hand in original work. Work that is copied from another group will not be accepted."
   ]
  },
  {
   "cell_type": "markdown",
   "metadata": {
    "nbgrader": {
     "grade": false,
     "grade_id": "cell-b13bc5ed16bce8e0",
     "locked": true,
     "schema_version": 3,
     "solution": false,
     "task": false
    }
   },
   "source": [
    "# Exercise 0\n",
    "Write down the names + student ID of the people in your group."
   ]
  },
  {
   "cell_type": "markdown",
   "metadata": {
    "nbgrader": {
     "grade": true,
     "grade_id": "cell-fd464f55ba436b1c",
     "locked": false,
     "points": 0,
     "schema_version": 3,
     "solution": true,
     "task": false
    }
   },
   "source": [
    "Karin Brinksma 13919938 Dominique Weltevreden 12161160"
   ]
  },
  {
   "cell_type": "markdown",
   "metadata": {},
   "source": [
    "# About imports\n",
    "Please import the needed packages by yourself."
   ]
  },
  {
   "cell_type": "markdown",
   "metadata": {},
   "source": [
    "# Sparse matrices\n",
    "A _sparse matrix_ or _sparse array_ is a matrix in which most of the elements are zero. There is no strict definition how many elements need to be zero for a matrix to be considered sparse. In many examples, the number of nonzeros per row or column is a small fraction, a few percent or less, of the total number of elements of the row or column. By contrast, if most of the elements are nonzero, then the matrix is considered _dense_. \n",
    "\n",
    "In the context of software for scientific computing, a sparse matrix typically refers to a storage format, in which elements which are known to be zero are not stored. In Python, the library `scipy.sparse` defines several sparse matrix classes, such as `scipy.sparse.coo_matrix`. To construct such an object, one passes for each nonzero element the value, and the row and column coordinates. In some cases, one can also just pass the nonzero (off-)diagonals, see `scipy.sparse.diags`.\n",
    "\n",
    "Functions for dense matrices do not always work with sparse matrices. For example for the product of a sparse matrix with a (dense) vector, there is the member function `scipy.sparse.coo_matrix.dot`, and for solving linear equations involving a sparse matrix, there is the function `scipy.sparse.linalg.spsolve`."
   ]
  },
  {
   "cell_type": "code",
   "execution_count": 1,
   "metadata": {},
   "outputs": [],
   "source": [
    "# Import some basic packages\n",
    "import numpy as np\n",
    "import matplotlib.pyplot as plt\n",
    "import math\n",
    "from scipy.sparse import coo_matrix, diags, SparseEfficiencyWarning\n",
    "from scipy.sparse.linalg import spsolve\n",
    "\n",
    "import warnings\n",
    "warnings.simplefilter('ignore', SparseEfficiencyWarning)  # Suppress confusing warning"
   ]
  },
  {
   "cell_type": "code",
   "execution_count": 2,
   "metadata": {},
   "outputs": [
    {
     "name": "stdout",
     "output_type": "stream",
     "text": [
      "When printing a sparse matrix, it shows its nonzero entries:\n",
      "  (0, 0)\t4.0\n",
      "  (3, 3)\t5.0\n",
      "  (1, 1)\t7.0\n",
      "  (0, 2)\t9.0\n",
      "If you want to see its `dense` matrix form, you have to use `mat.toarray()`:\n",
      "[[4. 0. 9. 0.]\n",
      " [0. 7. 0. 0.]\n",
      " [0. 0. 0. 0.]\n",
      " [0. 0. 0. 5.]]\n",
      "For x=[1 2 3 4], Mx = [31. 14.  0. 20.]\n"
     ]
    }
   ],
   "source": [
    "# This is how to create a sparse matrix from a given list of (row, column, value) tuples.\n",
    "row  = [0,   3,   1,   0]\n",
    "col  = [0,   3,   1,   2]\n",
    "data = [4.0, 5.0, 7.0, 9.0]\n",
    "M = coo_matrix((data, (row, col)), shape=(4, 4))\n",
    "\n",
    "print(\"When printing a sparse matrix, it shows its nonzero entries:\")\n",
    "print(M)\n",
    "\n",
    "print(\"If you want to see its `dense` matrix form, you have to use `mat.toarray()`:\")\n",
    "print(M.toarray())\n",
    "\n",
    "# This is how to perform matrix-vector products.\n",
    "x = np.array([1, 2, 3, 4])\n",
    "print(\"For x={}, Mx = {}\".format(x, M.dot(x)))"
   ]
  },
  {
   "cell_type": "code",
   "execution_count": 3,
   "metadata": {},
   "outputs": [
    {
     "name": "stdout",
     "output_type": "stream",
     "text": [
      "This matrix has values on its diagonal and on offdiagonals 1 and 2 rows ABOVE it.\n",
      "[[1. 1. 1. 0.]\n",
      " [0. 2. 2. 2.]\n",
      " [0. 0. 3. 3.]\n",
      " [0. 0. 0. 4.]]\n",
      "This matrix has values on its diagonal and on offdiagonals 1 and 2 rows BELOW it.\n",
      "[[1. 0. 0. 0.]\n",
      " [1. 2. 0. 0.]\n",
      " [1. 2. 3. 0.]\n",
      " [0. 2. 3. 4.]]\n",
      "If you want to visualize the matrix for yourself, use `plt.imshow`:\n"
     ]
    },
    {
     "data": {
      "image/png": "[encoded data removed]",
      "text/plain": [
       "<Figure size 432x288 with 2 Axes>"
      ]
     },
     "metadata": {
      "needs_background": "light"
     },
     "output_type": "display_data"
    },
    {
     "name": "stdout",
     "output_type": "stream",
     "text": [
      "For b=[1 2 3 4], the solution x to Mx=b is [1.         0.5        0.33333333 0.5       ]\n",
      "And indeed, Mx - b = [0. 0. 0. 0.]\n"
     ]
    }
   ],
   "source": [
    "# This is how to create a sparse matrix from a given list of subdiagonals.\n",
    "diagonals = [[1, 2, 3, 4], [1, 2, 3], [1, 2]]\n",
    "M = diags(diagonals, [0, 1, 2])\n",
    "print(\"This matrix has values on its diagonal and on offdiagonals 1 and 2 rows ABOVE it.\")\n",
    "print(M.toarray())\n",
    "\n",
    "M = diags(diagonals, [0, -1, -2])\n",
    "print(\"This matrix has values on its diagonal and on offdiagonals 1 and 2 rows BELOW it.\")\n",
    "print(M.toarray())\n",
    "\n",
    "print(\"If you want to visualize the matrix for yourself, use `plt.imshow`:\")\n",
    "plt.imshow(M.toarray())\n",
    "plt.colorbar()\n",
    "plt.show()\n",
    "\n",
    "# This is how to solve sparse systems.\n",
    "b = np.array([1, 2, 3, 4])\n",
    "x = spsolve(M, b)\n",
    "print(\"For b={}, the solution x to Mx=b is {}\".format(b, x))\n",
    "print(\"And indeed, Mx - b = {}\".format(M.dot(x) - b))"
   ]
  },
  {
   "cell_type": "markdown",
   "metadata": {},
   "source": [
    "--------\n",
    "# Exercise 1\n",
    "Consider the following boundary value problem involving a nonlinear ordinary differential equation:\n",
    "\n",
    "$$ \\tag{1} y''(x) + \\exp(y(x)) = 0, \\quad 0 < x < 1, \\quad y(0) = y(1) = 0.$$\n",
    "\n",
    "The purpose of this exercise is to approximate the solution to this boundary value problem, by discretizing the problem and then solving the resulting system of nonlinear equations. "
   ]
  },
  {
   "cell_type": "markdown",
   "metadata": {},
   "source": [
    "Problem (1) will be discretized using finite differences. Suppose we use $n+2$ discretization points for $x$, denoted $x_k = kh$ for $k \\in \\{0, \\ldots, n+1\\}$ and $h = 1/(n+1)$. The approximate solution is denoted $y_k = y(x_k)$. \n",
    "\n",
    "We will use a _second-order central finite difference_ approximation for the second derivative: \n",
    "\n",
    "$$ \\tag{2} y''(x_k) \\approx \\frac{y_{k-1} - 2 y_k + y_{k+1}}{h^2}.$$\n",
    "\n",
    "The term $\\exp(y(x_k))$ can simply be approximated by $\\exp(y_k)$. Thus for $x=x_k$, equation (1) becomes\n",
    "\n",
    "$$ \\tag{3} \\frac{y_{k-1} - 2 y_k + y_{k+1}}{h^2} + \\exp y_k = 0, \\quad k = 1, \\ldots, n.$$\n",
    "\n",
    "The boundary conditions (the conditions $y(0) = y(1) = 1$), lead to the requirement that $y_0 = y_{n+1} = 0$. To find the remaining values $y_k$, $k=1, \\ldots, n$, equation (3) will be used for $k = 1, \\ldots, n$. In this way, one obtains $n$ equations for $n$ unknowns, to which, in principle, a rootfinding method can be applied.\n",
    "\n",
    "We will write $\\vec y = \\begin{bmatrix} y_1 \\\\ \\vdots \\\\ y_n \\end{bmatrix}$ for the vector of values to be determined. \n"
   ]
  },
  {
   "cell_type": "markdown",
   "metadata": {},
   "source": [
    "## (a)  (2 pts)\n",
    "As a first step, finish the function `SecondDerMatrix` that returns a matrix $\\bf{M}$ that maps the vector $\\vec y$ to the vector of the approximate values $y''(x_k)$, $k=1, \\ldots, n$ given in (2). To get full points for this part of the exercise you must create output in the form of a sparse matrix."
   ]
  },
  {
   "cell_type": "code",
   "execution_count": 4,
   "metadata": {},
   "outputs": [],
   "source": [
    "def SecondDerMatrix(n):\n",
    "    \"\"\"\n",
    "    Creates a sparse matrix that maps the y vector to the vector of approximate values y'' given above in equation 2. \n",
    "    Input:\n",
    "    n = integer, equal to length of the y vector\n",
    "    \n",
    "    Returns:\n",
    "    M = sparse matrix\n",
    "    \"\"\"\n",
    "    # Calculate h\n",
    "    h = 1 / (n + 1)\n",
    "    \n",
    "    # Create diagonals of the matrix based on k-1, k and k+1\n",
    "    m_below = [1] * (n-1)\n",
    "    m_diag = [-2] * n\n",
    "    m_above = [1] * (n-1)\n",
    "    \n",
    "    # Create sparse matrix\n",
    "    m_diagonals = [m_below, m_diag, m_above]\n",
    "    \n",
    "    # Finish up equation 2 by the division\n",
    "    M = diags(m_diagonals, [-1, 0, 1]) / (h**2)\n",
    "    \n",
    "    return M"
   ]
  },
  {
   "cell_type": "markdown",
   "metadata": {},
   "source": [
    "## (b)  (1 pt)\n",
    "Second-order central finite differences are exact for quadratic functions. In order to test your implementation, choose $n=10$ and apply the second derivative matrix from part (a) to a quadratic function $y(x)$ with $y(0) = y(1) = 0$ for which you know the second derivative $y''(x)$."
   ]
  },
  {
   "cell_type": "code",
   "execution_count": 5,
   "metadata": {},
   "outputs": [
    {
     "name": "stdout",
     "output_type": "stream",
     "text": [
      "[2. 2. 2. 2. 2. 2. 2. 2. 2. 2.]\n",
      "[2. 2. 2. 2. 2. 2. 2. 2. 2. 2.]\n"
     ]
    }
   ],
   "source": [
    "def get_vector_y(n):\n",
    "    \"\"\"\n",
    "    Quadratic function y(x) for which y(0) = y(1) = 0\n",
    "    \"\"\"\n",
    "    y = np.empty(n)\n",
    "    \n",
    "    # Make the y vector\n",
    "    for i in range(n):\n",
    "        x = (i + 1) / (n + 1)\n",
    "        y[i] = x ** 2 - x\n",
    "    return y\n",
    "\n",
    "n = 10\n",
    "M_10 = SecondDerMatrix(n)\n",
    "vec_y = get_vector_y(n)\n",
    "sol = coo_matrix.dot(M_10, vec_y)\n",
    "y_sec_der = 2 * np.ones(n)\n",
    "\n",
    "# See if the solution calculated and what should the the solution match\n",
    "print(sol)\n",
    "print(y_sec_der)\n",
    "\n",
    "assert np.allclose(sol-y_sec_der, 0)"
   ]
  },
  {
   "cell_type": "markdown",
   "metadata": {},
   "source": [
    "## (c) (2 pts)\n",
    "\n",
    "Defining $\\vec y = \\begin{bmatrix} y_1 \\\\ \\vdots \\\\ y_n \\end{bmatrix}$ and \n",
    "$E(\\vec y) = \\begin{bmatrix} \\exp(y_1) \\\\ \\vdots \\\\ \\exp(y_n) \\end{bmatrix}$, the equations (3) can be written in the form\n",
    "\n",
    "$$ F(\\vec y) := {\\bf M} \\cdot \\vec y + E(\\vec y) = \\vec 0. $$\n",
    "\n",
    "Finish the function `F` that defines $F(\\vec y) = {\\bf M} \\cdot \\vec y + E(\\vec y)$.\n",
    "Finish the function `JacobianF` that computes the Jacobian ${\\bf J}_F(\\vec y)$ of $F(\\vec y)$.\n",
    "To get full points for this part of the exercise, the Jacobian must be computed in the form of a sparse matrix."
   ]
  },
  {
   "cell_type": "code",
   "execution_count": 6,
   "metadata": {},
   "outputs": [],
   "source": [
    "def F(y):\n",
    "    \"\"\"\n",
    "    Returns a matrix with the solution of the function given above as equation 3\n",
    "    Input: \n",
    "    y = a vector\n",
    "    \n",
    "    Returns: \n",
    "    A matrix\n",
    "    \"\"\"\n",
    "    # Get n from the y vector\n",
    "    n = len(y)\n",
    "    \n",
    "    # Calculate the second derivative matrix with this n\n",
    "    M = SecondDerMatrix(n)\n",
    "    \n",
    "    # Get the second term of the equation\n",
    "    E_y = np.exp(y)\n",
    "    \n",
    "    # Return the rest of the equation\n",
    "    return coo_matrix.dot(M, y) + E_y\n",
    "    \n",
    "def JacobianF(y):\n",
    "    \"\"\"\n",
    "    Computes the Jacobian of the F(y) function; \n",
    "    Input:\n",
    "    y = a vector\n",
    "    \n",
    "    Return: \n",
    "    a sparse matrix\n",
    "    \"\"\"\n",
    "    # Get n from the y vector\n",
    "    n = len(y)\n",
    "    \n",
    "    # Calculate the second derivative matrix with this n\n",
    "    M = SecondDerMatrix(n)\n",
    "    \n",
    "    # Get the second term of the equation\n",
    "    E_y = np.exp(y)\n",
    "    \n",
    "    # Form a sparse matrix from the E_y\n",
    "    diagonal = diags([E_y], [0])\n",
    "    \n",
    "    # Complete the Jacobian with the values\n",
    "    return M + diagonal\n",
    "    "
   ]
  },
  {
   "cell_type": "markdown",
   "metadata": {},
   "source": [
    "## (d)  (3 pts)\n",
    "1. Write down the first order Taylor expansion $T_F(\\vec y, \\vec s)$ for $F(\\vec y+\\vec s)$.\n",
    "2. In order to check your implementation of the Jacobian matrix, compute and print both $F(\\vec y+\\vec s)$ and its first order Taylor approximation $T_F(\\vec y, \\vec s)$ for a choice $\\vec y$ and $\\vec s$.\n",
    "3. Verify numerically that the error $||F(\\vec y + \\vec s) - T_F(\\vec y, \\vec s)||_2$ is $\\mathcal O(||\\vec s||_2^2)$. Hint: take vectors $\\vec s$ with $\\|\\vec s\\|_2 = \\mathcal O(h)$  for multiple values for $h$, e.g. $h = 10^{-k}$ for a range of $k$. "
   ]
  },
  {
   "attachments": {},
   "cell_type": "markdown",
   "metadata": {},
   "source": [
    "Subquestion 1.\n",
    "\\begin{equation}\n",
    "f(\\vec y+\\vec s)=f(\\vec y)+\\nabla f(\\vec y)^T \\vec s\n",
    "\\end{equation}\n",
    "As per page 228 of the book Scientific Computing"
   ]
  },
  {
   "cell_type": "code",
   "execution_count": 7,
   "metadata": {},
   "outputs": [
    {
     "name": "stdout",
     "output_type": "stream",
     "text": [
      "F(y+s) is: \n",
      "[  3.84985881   2.01375271   5.50416602 -47.54696758]\n",
      "The first-order taylor expansion is: \n",
      "[  3.8262051    1.88980233   5.13795403 -48.67386986]\n"
     ]
    },
    {
     "data": {
      "image/png": "[encoded data removed]",
      "text/plain": [
       "<Figure size 432x288 with 1 Axes>"
      ]
     },
     "metadata": {
      "needs_background": "light"
     },
     "output_type": "display_data"
    }
   ],
   "source": [
    "# Subquestions 2 and 3.\n",
    "def taylor_exp(y, s):\n",
    "    \"\"\"\n",
    "    Calculate the first order Taylor approximation of the function F given above\n",
    "    Input:\n",
    "    y = vector\n",
    "    s = vector of the same length of y\n",
    "    \n",
    "    Returns:\n",
    "    A matrix\n",
    "    \"\"\"\n",
    "    # Get the first term\n",
    "    F_value = F(y)\n",
    "    \n",
    "    # Second term uses the first derivative, which can be gotten from the Jacobian Matrix\n",
    "    second_term = coo_matrix.dot(JacobianF(y).T, s)\n",
    "    return F_value + second_term\n",
    "\n",
    "y = np.array((0.1, 0.3, 0.5, 0.7))\n",
    "s = np.array((0.2, 0.4, 0.6, 0.9))\n",
    "\n",
    "\n",
    "print(f\"F(y+s) is: \\n{F(y+s)}\")\n",
    "print(f\"The first-order taylor expansion is: \\n{taylor_exp(y,s)}\")\n",
    "\n",
    "# Subquestion 3\n",
    "def get_error(y, s):\n",
    "    \"\"\"\n",
    "    Calculate the error by taking the norm of the true value and the approximation.\n",
    "    Input:\n",
    "    y = vector\n",
    "    s = vector of the same length of y\n",
    "    \n",
    "    Returns:\n",
    "    A float\n",
    "    \n",
    "    \n",
    "    \"\"\"\n",
    "    return np.linalg.norm(F(y + s) - taylor_exp(y, s))\n",
    "\n",
    "def plot_error(y):\n",
    "    \"\"\"\n",
    "    Plots the error given by get_error for a given y and an s calculated based on a h.\n",
    "    \"\"\"\n",
    "    k = 25\n",
    "    O_h = np.empty((k))\n",
    "    error = np.empty((k))\n",
    "    for i in range(k):\n",
    "        \n",
    "        # Calculate s given that the norm of s is O(h)\n",
    "        s = 1 / (np.power(10, i)) * np.ones(len(y))\n",
    "        O_h[i] = np.linalg.norm(s) ** 2\n",
    "        error[i] = get_error(y, s)\n",
    "        \n",
    "    # Plot values\n",
    "    plt.plot(O_h, error)\n",
    "    plt.xlabel(\"values for h\")\n",
    "    plt.ylabel(\"Error\")\n",
    "    plt.title(\"Error in first order Taylor approximation\")\n",
    "    plt.show()\n",
    "    \n",
    "plot_error(y)\n"
   ]
  },
  {
   "cell_type": "markdown",
   "metadata": {},
   "source": [
    "## (e) (2 pts)\n",
    "1. Finish the function `NewtonSolve` below to solve the system of equations.\n",
    "2. Take $n=40$, and experiment with your function. Try to find a choice of `y0` such that the method doesn't converge, as well as a choice of `y0` such that the method converges. In your answer, list the types of convergence behavior you found. Show a convergent example (if you found any) and a nonconvergent example (if you found any). Show the solutions you found for each example."
   ]
  },
  {
   "cell_type": "code",
   "execution_count": 8,
   "metadata": {},
   "outputs": [],
   "source": [
    "# Subquestion 1.\n",
    "def NewtonSolve(y0, K):\n",
    "    \"\"\" Use Newton's method to solve F(y) = 0 with initial guess y0 and K iterations. Taken from Ch5 of Scientific Computing,\n",
    "    Algorithm 5.4\"\"\"\n",
    "    y = y0\n",
    "    error = []\n",
    "    \n",
    "    # Loop for K\n",
    "    for i in range(K):\n",
    "        # Compute Newton Step\n",
    "        A = JacobianF(y)\n",
    "        b = -F(y)\n",
    "        s_k = spsolve(A, b)\n",
    "        \n",
    "        # Update solution\n",
    "        y = y + s_k\n",
    "        \n",
    "        # Compute error of this solution by calculating the F of y, which should be 0 as this is the solution we are looking\n",
    "        # for\n",
    "        error.append(np.linalg.norm(F(y)))\n",
    "    return y, error"
   ]
  },
  {
   "cell_type": "code",
   "execution_count": 9,
   "metadata": {},
   "outputs": [
    {
     "data": {
      "image/png": "[encoded data removed]",
      "text/plain": [
       "<Figure size 432x288 with 1 Axes>"
      ]
     },
     "metadata": {
      "needs_background": "light"
     },
     "output_type": "display_data"
    },
    {
     "name": "stdout",
     "output_type": "stream",
     "text": [
      "Solutions for an Y0 of 2, for which the method converged: \n",
      "[0.01310082 0.0255989  0.03748668 0.04875685 0.05940242 0.06941669\n",
      " 0.07879331 0.08752629 0.09560996 0.10303907 0.10980872 0.11591445\n",
      " 0.12135218 0.12611827 0.13020952 0.13362316 0.13635686 0.13840878\n",
      " 0.1397775  0.1404621  0.1404621  0.1397775  0.13840878 0.13635686\n",
      " 0.13362316 0.13020952 0.12611827 0.12135218 0.11591445 0.10980872\n",
      " 0.10303907 0.09560996 0.08752629 0.07879331 0.06941669 0.05940242\n",
      " 0.04875685 0.03748668 0.0255989  0.01310082]\n",
      "Solutions for an Y0 of 7, for which the method did not converge: \n",
      "[125.26975378 248.82562943   9.95468174  11.06263431  17.03009166\n",
      "  11.04327428   8.23584401  15.4083483    9.25618688  12.96940846\n",
      "  16.17394695  19.37923865  33.85025234  13.73116701  10.85323032\n",
      "  24.20135023  24.8706673   17.72140317  12.42410391 -22.04939651\n",
      " -21.89902509  12.40410976  17.67409327  24.73002799  24.20485954\n",
      "  10.85329231  13.7311669   33.85025236  19.37923899  16.17394645\n",
      "  12.96940709   9.25619295  15.40819644   8.23605104  11.04340462\n",
      "  17.02983636  11.06263782   9.95467109 248.8264496  125.27017012]\n"
     ]
    },
    {
     "data": {
      "image/png": "[encoded data removed]",
      "text/plain": [
       "<Figure size 432x288 with 1 Axes>"
      ]
     },
     "metadata": {
      "needs_background": "light"
     },
     "output_type": "display_data"
    }
   ],
   "source": [
    "# Subquestion 2, code part\n",
    "\n",
    "k = 60\n",
    "n = 40\n",
    "\n",
    "for y0s in np.arange(1, 8, 1):\n",
    "    y = np.ones((n)) * y0s\n",
    "    y, error = NewtonSolve(y, k)\n",
    "    plt.semilogy(np.arange(k), error, label = f\"Y0 of {y0s}\")\n",
    "    \n",
    "plt.title(\"Error of Newton solution for different initial y0 values\")\n",
    "plt.xlabel(\"k\")\n",
    "plt.ylabel(\"norm y\")\n",
    "plt.legend()\n",
    "plt.show()\n",
    "\n",
    "print(f\"Solutions for an Y0 of 2, for which the method converged: \\n{(NewtonSolve(np.ones((40))*2, 60))[0]}\")\n",
    "\n",
    "print(f\"Solutions for an Y0 of 7, for which the method did not converge: \\n{(NewtonSolve(np.ones((40))*7, 60))[0]}\")\n",
    "\n",
    "# Zoom in on convergent behaviour\n",
    "y = np.ones((n)) * 2\n",
    "y, error = NewtonSolve(y, k)\n",
    "plt.plot(np.arange(k), error)\n",
    "plt.xlabel(\"k\")\n",
    "plt.ylabel(\"norm y\")\n",
    "plt.title(\"Zoomed-in on convergent behaviour in Newton Solution for Y0 = 2\")\n",
    "plt.show()"
   ]
  },
  {
   "cell_type": "markdown",
   "metadata": {},
   "source": [
    "The Newton method does not converge when the y0 is too different from the final solution. In the graph, Y0s under 4 converge, where an Y0 above 3 does not, for a k of 60. \n",
    "\n",
    "When printing the non-converged solutions, it can be seen that the values of Y are quite large, where the values of Y for the converged situation are quite small. This indicates that the true solution is a small Y, which would explain why the method only converges for smaller Y0 values.\n",
    "\n",
    "When looking at the zoomed-in plot on convergent behaviour for Y0 = 2 in a regular, non-log plot, the convergence can be seen to be superlinear, rapidly converging to a certain solution at an early k. In the overview plot, convergence seems to come quickly for the values that actually converge, while values that do not converge seem to bounce between approaching convergence before spiking. "
   ]
  },
  {
   "cell_type": "code",
   "execution_count": null,
   "metadata": {},
   "outputs": [],
   "source": []
  },
  {
   "cell_type": "code",
   "execution_count": null,
   "metadata": {},
   "outputs": [],
   "source": []
  }
 ],
 "metadata": {
  "kernelspec": {
   "display_name": "Python 3",
   "language": "python",
   "name": "python3"
  },
  "language_info": {
   "codemirror_mode": {
    "name": "ipython",
    "version": 3
   },
   "file_extension": ".py",
   "mimetype": "text/x-python",
   "name": "python",
   "nbconvert_exporter": "python",
   "pygments_lexer": "ipython3",
   "version": "3.8.5"
  }
 },
 "nbformat": 4,
 "nbformat_minor": 5
}
