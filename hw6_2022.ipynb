{
 "cells": [
  {
   "cell_type": "markdown",
   "metadata": {
    "nbgrader": {
     "grade": false,
     "grade_id": "cell-06d3e5bf55c941ae",
     "locked": true,
     "schema_version": 3,
     "solution": false,
     "task": false
    },
    "tags": []
   },
   "source": [
    "# Homework set 6"
   ]
  },
  {
   "cell_type": "markdown",
   "metadata": {
    "nbgrader": {
     "grade": false,
     "grade_id": "cell-736ff6bc3e0d0696",
     "locked": true,
     "schema_version": 3,
     "solution": false,
     "task": false
    }
   },
   "source": [
    "Before you turn this problem in, make sure everything runs as expected (in the menubar, select Kernel → Restart Kernel and Run All Cells...).\n",
    "\n",
    "Please **submit this Jupyter notebook through Canvas** no later than **Mon Dec. 12, 9:00**. **Submit the notebook file with your answers (as .ipynb file) and a pdf printout. The pdf version can be used by the teachers to provide feedback. A pdf version can be made using the save and export option in the Jupyter Lab file menu.**\n",
    "\n",
    "Homework is in **groups of two**, and you are expected to hand in original work. Work that is copied from another group will not be accepted."
   ]
  },
  {
   "cell_type": "markdown",
   "metadata": {
    "nbgrader": {
     "grade": false,
     "grade_id": "cell-b13bc5ed16bce8e0",
     "locked": true,
     "schema_version": 3,
     "solution": false,
     "task": false
    }
   },
   "source": [
    "# Exercise 0\n",
    "Write down the names + student ID of the people in your group."
   ]
  },
  {
   "cell_type": "markdown",
   "metadata": {
    "nbgrader": {
     "grade": true,
     "grade_id": "cell-fd464f55ba436b1c",
     "locked": false,
     "points": 0,
     "schema_version": 3,
     "solution": true,
     "task": false
    }
   },
   "source": [
    "Karin Brinksma 13919938 Dominique Weltevreden 12161160"
   ]
  },
  {
   "cell_type": "markdown",
   "metadata": {},
   "source": [
    "----------------\n",
    "\n",
    "# Exercise 1 (4.5 points)\n",
    "\n",
    "A bacterial population $P$ grows according to the geometric progression\n",
    "\n",
    "$$P_t = rP_{t-1}$$\n",
    "\n",
    "Where r is the growth rate. The following population counts $P_1 ,\\ldots, P_8$ (in billions) are observed:"
   ]
  },
  {
   "cell_type": "code",
   "execution_count": 63,
   "metadata": {},
   "outputs": [],
   "source": [
    "import numpy as np\n",
    "import matplotlib.pyplot as plt\n",
    "from scipy import integrate, optimize\n",
    "\n",
    "data = [0.19, 0.36, 0.69, 1.3, 2.5, 4.7, 8.5, 14]"
   ]
  },
  {
   "cell_type": "markdown",
   "metadata": {},
   "source": [
    "# (a)\n",
    "Read chapter 6.6 on Nonlinear Least squares. Use the Gauss-Newton Method to fit the model function $f(t, x_1, x_2) = x_1\\!\\cdot x_2^t$ to the data. Find estimates for the initial population $P_0=x_1$ and the growth rate $r=x_2$.\n",
    "\n",
    "Plot the observed and modeled data and make a separate plot of the residuals."
   ]
  },
  {
   "cell_type": "code",
   "execution_count": 50,
   "metadata": {},
   "outputs": [
    {
     "name": "stdout",
     "output_type": "stream",
     "text": [
      "[0.28271593 1.74945418]\n"
     ]
    },
    {
     "data": {
      "image/png": "[encoded data removed]",
      "text/plain": [
       "<Figure size 432x288 with 1 Axes>"
      ]
     },
     "metadata": {
      "needs_background": "light"
     },
     "output_type": "display_data"
    },
    {
     "data": {
      "image/png": "[encoded data removed]",
      "text/plain": [
       "<Figure size 432x288 with 1 Axes>"
      ]
     },
     "metadata": {
      "needs_background": "light"
     },
     "output_type": "display_data"
    }
   ],
   "source": [
    "def fit_function(input_values, t):\n",
    "    x1 = input_values[0]\n",
    "    x2 = input_values[1]\n",
    "    return x1 * x2 ** t\n",
    "\n",
    "# def population_growth(initial, true_y):\n",
    "#     #print(initial)\n",
    "#     x1 = initial[0]\n",
    "#     x2 = initial[1]\n",
    "    \n",
    "#     timesteps = np.arange(len(true_y))\n",
    "#     #print(timesteps)\n",
    "#     jacobian = np.empty([len(true_y), 2])\n",
    "#     summed_res = 100\n",
    "    \n",
    "#     while summed_res > 2:\n",
    "#         est_y = []\n",
    "#         for t in timesteps:\n",
    "#             estimate = fit_function(initial, t)\n",
    "#             est_y.append(estimate)\n",
    "#             dx1 = - x2 ** t\n",
    "#             dx2 = - x1 * t * x2 ** (t - 1)\n",
    "#             jacobian[t, 0] = dx1\n",
    "#             jacobian[t, 1] = dx2\n",
    "            \n",
    "        \n",
    "#         #print(jacobian)\n",
    "#         residual = np.array(est_y) - np.array(true_y)\n",
    "#         summed_res = np.linalg.norm(residual)\n",
    "#         s = np.linalg.lstsq(jacobian, - residual.T, None)[0]  # dit is niet helemaal de bedoeling denk ik\n",
    "#         initial = initial - s\n",
    "        \n",
    "#         s = np.linalg.solve(jacobian.T @ jacobian, jacobian.T @ residual)\n",
    "    \n",
    "#     return est_y, timesteps\n",
    "\n",
    "def gauss_newton(input_values, true_y):\n",
    "    \"\"\"\n",
    "    The Gauss-Newton method to fit the model function given above, to the data; finds estimates for the initial values\n",
    "    based on the given data.\n",
    "    Input:\n",
    "    input_values    = (2,) array with initial input values for the function (x0)\n",
    "    true_y          = list of datapoints that the model should approximate\n",
    "    \n",
    "    Output:\n",
    "    Mostly for plotting purposes.\n",
    "    est_y           = estimated y values for the function based on the input values found\n",
    "    timesteps       = list of values aranged between 0 and the length of true_y; for plotting purposes\n",
    "    saved_residuals = list of residual values per loop\n",
    "    k               = number of loops needed for convergence\n",
    "    \n",
    "    \"\"\"\n",
    "    # Get the length of the y vector\n",
    "    n = len(true_y)\n",
    "    \n",
    "    # Arrange the timesteps over n to loop over this\n",
    "    timesteps = np.arange(n)\n",
    "    \n",
    "    # Create an empty matrix to fill with derivatives; dimensions equal to length true_y \n",
    "    # x nr of first derivatives\n",
    "    jacobian = np.empty([n, 2])\n",
    "    \n",
    "    # Initialize summed_res(iduals) at a high number for the while statement\n",
    "    summed_res = 100\n",
    "    \n",
    "    # Initialize k to count the loops\n",
    "    k = 0\n",
    "    \n",
    "    # Save residuals per loop\n",
    "    saved_residuals = []\n",
    "    \n",
    "    \n",
    "    # Keep running until convergence, arbitrarily set at a residual of <0.75\n",
    "    while k < 1000 and summed_res > 0.75:\n",
    "        k += 1\n",
    "        \n",
    "        # Get estimated y values based on the current input values\n",
    "        # Input values has to be an iterable for the map function to work\n",
    "        est_y = list(map(fit_function, [input_values] * n, timesteps))\n",
    "        \n",
    "        # Calculate residuals between the estimated and true y values\n",
    "        residual = np.array(est_y) - np.array(true_y)\n",
    "        summed_res = np.linalg.norm(residual)\n",
    "        saved_residuals.append(summed_res)\n",
    "        \n",
    "        # Fill the Jacobian\n",
    "        for t in timesteps:\n",
    "            \n",
    "            # Derivative over x1\n",
    "            dx1 = - input_values[1] ** t\n",
    "            \n",
    "            # Derivative over x2\n",
    "            dx2 = - input_values[0] * t * input_values[1] ** (t - 1)\n",
    "            jacobian[t, 0] = dx1\n",
    "            jacobian[t, 1] = dx2\n",
    "\n",
    "\n",
    "        # Alternative methods to solve Js = r for s; the least squares method worked better so is currently implemented\n",
    "        #s = np.linalg.solve(jacobian.T @ jacobian, jacobian.T @ - residual)\n",
    "        s = np.linalg.lstsq(jacobian, - residual, None)[0]\n",
    "        \n",
    "        # Update input values with s\n",
    "        input_values = input_values - s\n",
    "    \n",
    "    return est_y, timesteps, saved_residuals, k\n",
    "\n",
    "P0 = 0.5\n",
    "growth_rate = 1.5\n",
    "start_rates = np.array([P0, growth_rate])\n",
    "y, time, residuals, k = gauss_newton(start_rates, data)\n",
    "print(x_val)\n",
    "\n",
    "# Plotting\n",
    "k_space = np.arange(k)\n",
    "plt.plot(time, y, label = \"Estimated\")\n",
    "plt.plot(time, data, label = \"True values\")\n",
    "plt.xlabel(\"Time\")\n",
    "plt.legend()\n",
    "plt.show()\n",
    "\n",
    "# plt.plot(k_space, )\n",
    "# plt.show()\n",
    "\n",
    "plt.plot(k_space, residuals)\n",
    "plt.xlabel(\"Iterations\")\n",
    "plt.show()\n",
    "\n"
   ]
  },
  {
   "cell_type": "markdown",
   "metadata": {},
   "source": [
    "# (b) \n",
    "Let $f$ be a vector valued function $f = [ f_1, \\ldots, f_m ]^T$. In weighted least squares one aims to minimize the objective function\n",
    "$$\n",
    "  \\phi(x) = \\frac{1}{2} \\sum_{i=1}^m W_{ii} ( f_i(x) - y_i) ^2 , \\qquad\n",
    "  W_{ii} = \\frac{1}{\\sigma_i^2} , \n",
    "$$\n",
    "where $\\sigma_i$ is an estimate of the standard deviation in the data point $y_i$. This is equivalent to the standard least squares problem \n",
    "$$\n",
    "\\min_x \\frac{1}{2} \\| F(x) - Y \\|^2\n",
    "$$\n",
    "with $F(x) = T f(x)$  , $Y = T y$, where $T$ is the diagonal matrix with $\\frac{1}{\\sigma_i}$ on the diagonal. Assume that for each data point $y_i$ in the list above, the estimate for the standard deviation is given by\n",
    "$$\n",
    "  \\sigma_i = 0.05 y_i .\n",
    "$$ \n",
    "Perform a weighted least squares fit to obtain estimates for $P_0 = x_1$ and $r = x_2$.\n",
    "Plot the observed and modeled data and make a separate plot of the residuals.\n",
    "\n",
    "Are the results different from those of part (a)? Discuss and explain the differences.\n"
   ]
  },
  {
   "cell_type": "code",
   "execution_count": 73,
   "metadata": {},
   "outputs": [
    {
     "ename": "NameError",
     "evalue": "name 'n' is not defined",
     "output_type": "error",
     "traceback": [
      "\u001b[1;31m---------------------------------------------------------------------------\u001b[0m",
      "\u001b[1;31mNameError\u001b[0m                                 Traceback (most recent call last)",
      "\u001b[1;32m<ipython-input-73-53be86a112b2>\u001b[0m in \u001b[0;36m<module>\u001b[1;34m\u001b[0m\n\u001b[0;32m     24\u001b[0m \u001b[0mx_val\u001b[0m \u001b[1;33m=\u001b[0m \u001b[0moptimize\u001b[0m\u001b[1;33m.\u001b[0m\u001b[0mminimize\u001b[0m\u001b[1;33m(\u001b[0m\u001b[0mweighted_lsq\u001b[0m\u001b[1;33m,\u001b[0m \u001b[0mstart_rates\u001b[0m\u001b[1;33m,\u001b[0m \u001b[0mdata\u001b[0m\u001b[1;33m)\u001b[0m\u001b[1;33m[\u001b[0m\u001b[1;34m\"x\"\u001b[0m\u001b[1;33m]\u001b[0m\u001b[1;33m\u001b[0m\u001b[1;33m\u001b[0m\u001b[0m\n\u001b[0;32m     25\u001b[0m \u001b[0mtimesteps\u001b[0m \u001b[1;33m=\u001b[0m \u001b[0mnp\u001b[0m\u001b[1;33m.\u001b[0m\u001b[0marange\u001b[0m\u001b[1;33m(\u001b[0m\u001b[0mlen\u001b[0m\u001b[1;33m(\u001b[0m\u001b[0mdata\u001b[0m\u001b[1;33m)\u001b[0m\u001b[1;33m)\u001b[0m\u001b[1;33m\u001b[0m\u001b[1;33m\u001b[0m\u001b[0m\n\u001b[1;32m---> 26\u001b[1;33m \u001b[0mest_y\u001b[0m \u001b[1;33m=\u001b[0m \u001b[0mlist\u001b[0m\u001b[1;33m(\u001b[0m\u001b[0mmap\u001b[0m\u001b[1;33m(\u001b[0m\u001b[0mfit_function\u001b[0m\u001b[1;33m,\u001b[0m \u001b[1;33m[\u001b[0m\u001b[0mx_val\u001b[0m\u001b[1;33m]\u001b[0m \u001b[1;33m*\u001b[0m \u001b[0mn\u001b[0m\u001b[1;33m,\u001b[0m \u001b[0mtimesteps\u001b[0m\u001b[1;33m)\u001b[0m\u001b[1;33m)\u001b[0m\u001b[1;33m\u001b[0m\u001b[1;33m\u001b[0m\u001b[0m\n\u001b[0m\u001b[0;32m     27\u001b[0m \u001b[1;33m\u001b[0m\u001b[0m\n\u001b[0;32m     28\u001b[0m \u001b[1;33m\u001b[0m\u001b[0m\n",
      "\u001b[1;31mNameError\u001b[0m: name 'n' is not defined"
     ]
    }
   ],
   "source": [
    "# def to_minimize(matrix, vector1, vector2):\n",
    "#     F = T @ est_y\n",
    "#     Y = T @ true_y\n",
    "#     return ()\n",
    "\n",
    "def weighted_lsq(input_values, true_y):\n",
    "    n = len(true_y)\n",
    "    T = np.zeros((n, n))\n",
    "    timesteps = np.arange(n)\n",
    "    \n",
    "    for i in range(n):\n",
    "        T[i,i] = 0.05 * true_y[i]\n",
    "    \n",
    "    est_y = list(map(fit_function, [input_values] * n, timesteps))\n",
    "    F = T @ est_y\n",
    "    Y = T @ true_y\n",
    "    residual = np.linalg.norm(F - Y)\n",
    "    return 1/2 * residual\n",
    "    \n",
    "    \n",
    "P0 = 0.5\n",
    "growth_rate = 1.5\n",
    "start_rates = np.array([P0, growth_rate])\n",
    "x_val = optimize.minimize(weighted_lsq, start_rates, data)[\"x\"]\n",
    "timesteps = np.arange(len(data))\n",
    "est_y = list(map(fit_function, [x_val] * n, timesteps))\n",
    "    \n",
    "    \n",
    "    \n",
    "\n",
    "#weighted_lsq(start_rates, data)"
   ]
  },
  {
   "cell_type": "markdown",
   "metadata": {},
   "source": [
    "Your answer here"
   ]
  },
  {
   "cell_type": "markdown",
   "metadata": {},
   "source": [
    "----------------------\n",
    "# Exercise 2 (4.5 points)\n",
    "\n"
   ]
  },
  {
   "cell_type": "markdown",
   "metadata": {},
   "source": [
    "# (a) \n",
    "Let $f(x) = 1/x^2$ and $a=10^{-3}$ and $b=1$. Make a plot of the graph of $f$ on $[a,b]$. "
   ]
  },
  {
   "cell_type": "code",
   "execution_count": 22,
   "metadata": {},
   "outputs": [
    {
     "data": {
      "image/png": "[encoded data removed]",
      "text/plain": [
       "<Figure size 432x288 with 1 Axes>"
      ]
     },
     "metadata": {
      "needs_background": "light"
     },
     "output_type": "display_data"
    }
   ],
   "source": [
    "# YOUR CODE HERE\n",
    "\n",
    "def function(x):\n",
    "    return 1 / (x ** 2)\n",
    "\n",
    "x_val = np.arange(10**-3, 1, 0.001)\n",
    "y_val = list(map(function, x_val))\n",
    "    \n",
    "plt.plot(x_val, y_val)\n",
    "plt.xlabel(\"X\")\n",
    "plt.ylabel(\"Y\")\n",
    "plt.show()"
   ]
  },
  {
   "cell_type": "markdown",
   "metadata": {},
   "source": [
    "# (b) \n",
    "Use scipy.integrate.quad to compute $\\int_a^b f(x) \\, dx$ with an absolute error less than 1e-4. Compare with the true value of the integral."
   ]
  },
  {
   "cell_type": "code",
   "execution_count": 28,
   "metadata": {},
   "outputs": [
    {
     "name": "stdout",
     "output_type": "stream",
     "text": [
      "1.8986079921439234e-12\n",
      "-0.9989999999999999\n"
     ]
    }
   ],
   "source": [
    "# YOUR CODE HERE\n",
    "y, error = integrate.quad(function, 10**3, 1)\n",
    "print(error)\n",
    "print(y)"
   ]
  },
  {
   "cell_type": "markdown",
   "metadata": {},
   "source": [
    "# (c)\n",
    "scipy.integrate.quad is an adaptive integration routine (book section 8.3.6), that automatically chooses an appropriate subdivision of the interval in subintervals. Therefore in some parts of the interval $[0,1]$ the function $f$ will be evaluated more often than in other parts. Divide the interval $[0,1]$ into bins $B_i = [h * (i-1), h*i]$, with $h=0.01$. For each bin $B_i$, count the number of times $f(x)$ is evaluated with $x$ in $B_i$. Make a histogram plot of these data. In which region is there a large number of function evaluations? Can you explain this, taking into account how $f$ is defined?\n",
    "\n",
    "Hint: To know for which $x$ the function $f$ is evaluated, you can keep a global array `xVals` in which you store all values of $x$ for which the function $f$ is called. You can use a numpy array and use numpy.append to add new values to `xVals`.\n"
   ]
  },
  {
   "cell_type": "code",
   "execution_count": null,
   "metadata": {},
   "outputs": [],
   "source": [
    "# YOUR CODE HERE"
   ]
  },
  {
   "cell_type": "markdown",
   "metadata": {},
   "source": [
    "Your answer here."
   ]
  }
 ],
 "metadata": {
  "kernelspec": {
   "display_name": "Python 3",
   "language": "python",
   "name": "python3"
  },
  "language_info": {
   "codemirror_mode": {
    "name": "ipython",
    "version": 3
   },
   "file_extension": ".py",
   "mimetype": "text/x-python",
   "name": "python",
   "nbconvert_exporter": "python",
   "pygments_lexer": "ipython3",
   "version": "3.8.5"
  }
 },
 "nbformat": 4,
 "nbformat_minor": 5
}
